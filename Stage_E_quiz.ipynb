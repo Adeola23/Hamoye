{
  "nbformat": 4,
  "nbformat_minor": 0,
  "metadata": {
    "colab": {
      "name": "Stage E quiz ",
      "provenance": [],
      "collapsed_sections": [],
      "toc_visible": true,
      "include_colab_link": true
    },
    "kernelspec": {
      "name": "python3",
      "display_name": "Python 3"
    }
  },
  "cells": [
    {
      "cell_type": "markdown",
      "metadata": {
        "id": "view-in-github",
        "colab_type": "text"
      },
      "source": [
        "<a href=\"https://colab.research.google.com/github/Adeola23/Hamoye/blob/master/Stage_E_quiz.ipynb\" target=\"_parent\"><img src=\"https://colab.research.google.com/assets/colab-badge.svg\" alt=\"Open In Colab\"/></a>"
      ]
    },
    {
      "cell_type": "code",
      "metadata": {
        "id": "R33eRWDmK5rm"
      },
      "source": [
        "import numpy as np\n",
        "import pandas as pd\n",
        "import seaborn as sns\n",
        "import matplotlib.pyplot as plt\n",
        "import tensorflow as tf\n",
        "%matplotlib inline"
      ],
      "execution_count": 2,
      "outputs": []
    },
    {
      "cell_type": "code",
      "metadata": {
        "id": "HTUKb6V9_6GN",
        "outputId": "009dbc07-4af4-4b94-d51a-60ffbc9df6a8",
        "colab": {
          "base_uri": "https://localhost:8080/",
          "height": 34
        }
      },
      "source": [
        "from google.colab import drive\n",
        "drive.mount('/content/drive')"
      ],
      "execution_count": 1,
      "outputs": [
        {
          "output_type": "stream",
          "text": [
            "Mounted at /content/drive\n"
          ],
          "name": "stdout"
        }
      ]
    },
    {
      "cell_type": "code",
      "metadata": {
        "id": "4bw1FrKYAzbP"
      },
      "source": [
        ""
      ],
      "execution_count": null,
      "outputs": []
    },
    {
      "cell_type": "code",
      "metadata": {
        "id": "lOX-UylNW7Rz",
        "outputId": "de4c5151-a68e-48d1-eae5-b192e05c8e4c",
        "colab": {
          "base_uri": "https://localhost:8080/",
          "height": 201
        }
      },
      "source": [
        "df = pd.read_csv('/content/drive/My Drive/household_power_consumption.txt', sep=';', low_memory=False, infer_datetime_format=True, parse_dates={'datetime':[0,1]})\n",
        "df.head()"
      ],
      "execution_count": 3,
      "outputs": [
        {
          "output_type": "execute_result",
          "data": {
            "text/html": [
              "<div>\n",
              "<style scoped>\n",
              "    .dataframe tbody tr th:only-of-type {\n",
              "        vertical-align: middle;\n",
              "    }\n",
              "\n",
              "    .dataframe tbody tr th {\n",
              "        vertical-align: top;\n",
              "    }\n",
              "\n",
              "    .dataframe thead th {\n",
              "        text-align: right;\n",
              "    }\n",
              "</style>\n",
              "<table border=\"1\" class=\"dataframe\">\n",
              "  <thead>\n",
              "    <tr style=\"text-align: right;\">\n",
              "      <th></th>\n",
              "      <th>datetime</th>\n",
              "      <th>Global_active_power</th>\n",
              "      <th>Global_reactive_power</th>\n",
              "      <th>Voltage</th>\n",
              "      <th>Global_intensity</th>\n",
              "      <th>Sub_metering_1</th>\n",
              "      <th>Sub_metering_2</th>\n",
              "      <th>Sub_metering_3</th>\n",
              "    </tr>\n",
              "  </thead>\n",
              "  <tbody>\n",
              "    <tr>\n",
              "      <th>0</th>\n",
              "      <td>2006-12-16 17:24:00</td>\n",
              "      <td>4.216</td>\n",
              "      <td>0.418</td>\n",
              "      <td>234.840</td>\n",
              "      <td>18.400</td>\n",
              "      <td>0.000</td>\n",
              "      <td>1.000</td>\n",
              "      <td>17.0</td>\n",
              "    </tr>\n",
              "    <tr>\n",
              "      <th>1</th>\n",
              "      <td>2006-12-16 17:25:00</td>\n",
              "      <td>5.360</td>\n",
              "      <td>0.436</td>\n",
              "      <td>233.630</td>\n",
              "      <td>23.000</td>\n",
              "      <td>0.000</td>\n",
              "      <td>1.000</td>\n",
              "      <td>16.0</td>\n",
              "    </tr>\n",
              "    <tr>\n",
              "      <th>2</th>\n",
              "      <td>2006-12-16 17:26:00</td>\n",
              "      <td>5.374</td>\n",
              "      <td>0.498</td>\n",
              "      <td>233.290</td>\n",
              "      <td>23.000</td>\n",
              "      <td>0.000</td>\n",
              "      <td>2.000</td>\n",
              "      <td>17.0</td>\n",
              "    </tr>\n",
              "    <tr>\n",
              "      <th>3</th>\n",
              "      <td>2006-12-16 17:27:00</td>\n",
              "      <td>5.388</td>\n",
              "      <td>0.502</td>\n",
              "      <td>233.740</td>\n",
              "      <td>23.000</td>\n",
              "      <td>0.000</td>\n",
              "      <td>1.000</td>\n",
              "      <td>17.0</td>\n",
              "    </tr>\n",
              "    <tr>\n",
              "      <th>4</th>\n",
              "      <td>2006-12-16 17:28:00</td>\n",
              "      <td>3.666</td>\n",
              "      <td>0.528</td>\n",
              "      <td>235.680</td>\n",
              "      <td>15.800</td>\n",
              "      <td>0.000</td>\n",
              "      <td>1.000</td>\n",
              "      <td>17.0</td>\n",
              "    </tr>\n",
              "  </tbody>\n",
              "</table>\n",
              "</div>"
            ],
            "text/plain": [
              "             datetime Global_active_power  ... Sub_metering_2 Sub_metering_3\n",
              "0 2006-12-16 17:24:00               4.216  ...          1.000           17.0\n",
              "1 2006-12-16 17:25:00               5.360  ...          1.000           16.0\n",
              "2 2006-12-16 17:26:00               5.374  ...          2.000           17.0\n",
              "3 2006-12-16 17:27:00               5.388  ...          1.000           17.0\n",
              "4 2006-12-16 17:28:00               3.666  ...          1.000           17.0\n",
              "\n",
              "[5 rows x 8 columns]"
            ]
          },
          "metadata": {
            "tags": []
          },
          "execution_count": 3
        }
      ]
    },
    {
      "cell_type": "code",
      "metadata": {
        "id": "vZyl20IabCYH",
        "outputId": "37fe3f75-1760-47be-a6b4-3fe1b669a31e",
        "colab": {
          "base_uri": "https://localhost:8080/",
          "height": 275
        }
      },
      "source": [
        "df.info()"
      ],
      "execution_count": 4,
      "outputs": [
        {
          "output_type": "stream",
          "text": [
            "<class 'pandas.core.frame.DataFrame'>\n",
            "RangeIndex: 2075259 entries, 0 to 2075258\n",
            "Data columns (total 8 columns):\n",
            " #   Column                 Dtype         \n",
            "---  ------                 -----         \n",
            " 0   datetime               datetime64[ns]\n",
            " 1   Global_active_power    object        \n",
            " 2   Global_reactive_power  object        \n",
            " 3   Voltage                object        \n",
            " 4   Global_intensity       object        \n",
            " 5   Sub_metering_1         object        \n",
            " 6   Sub_metering_2         object        \n",
            " 7   Sub_metering_3         float64       \n",
            "dtypes: datetime64[ns](1), float64(1), object(6)\n",
            "memory usage: 126.7+ MB\n"
          ],
          "name": "stdout"
        }
      ]
    },
    {
      "cell_type": "code",
      "metadata": {
        "id": "XFpfbCVndMas",
        "outputId": "20f74373-501b-4632-af6b-fe1d6da02fa0",
        "colab": {
          "base_uri": "https://localhost:8080/",
          "height": 444
        }
      },
      "source": [
        "df.set_index('datetime', inplace=True)\n",
        "df"
      ],
      "execution_count": 5,
      "outputs": [
        {
          "output_type": "execute_result",
          "data": {
            "text/html": [
              "<div>\n",
              "<style scoped>\n",
              "    .dataframe tbody tr th:only-of-type {\n",
              "        vertical-align: middle;\n",
              "    }\n",
              "\n",
              "    .dataframe tbody tr th {\n",
              "        vertical-align: top;\n",
              "    }\n",
              "\n",
              "    .dataframe thead th {\n",
              "        text-align: right;\n",
              "    }\n",
              "</style>\n",
              "<table border=\"1\" class=\"dataframe\">\n",
              "  <thead>\n",
              "    <tr style=\"text-align: right;\">\n",
              "      <th></th>\n",
              "      <th>Global_active_power</th>\n",
              "      <th>Global_reactive_power</th>\n",
              "      <th>Voltage</th>\n",
              "      <th>Global_intensity</th>\n",
              "      <th>Sub_metering_1</th>\n",
              "      <th>Sub_metering_2</th>\n",
              "      <th>Sub_metering_3</th>\n",
              "    </tr>\n",
              "    <tr>\n",
              "      <th>datetime</th>\n",
              "      <th></th>\n",
              "      <th></th>\n",
              "      <th></th>\n",
              "      <th></th>\n",
              "      <th></th>\n",
              "      <th></th>\n",
              "      <th></th>\n",
              "    </tr>\n",
              "  </thead>\n",
              "  <tbody>\n",
              "    <tr>\n",
              "      <th>2006-12-16 17:24:00</th>\n",
              "      <td>4.216</td>\n",
              "      <td>0.418</td>\n",
              "      <td>234.840</td>\n",
              "      <td>18.400</td>\n",
              "      <td>0.000</td>\n",
              "      <td>1.000</td>\n",
              "      <td>17.0</td>\n",
              "    </tr>\n",
              "    <tr>\n",
              "      <th>2006-12-16 17:25:00</th>\n",
              "      <td>5.360</td>\n",
              "      <td>0.436</td>\n",
              "      <td>233.630</td>\n",
              "      <td>23.000</td>\n",
              "      <td>0.000</td>\n",
              "      <td>1.000</td>\n",
              "      <td>16.0</td>\n",
              "    </tr>\n",
              "    <tr>\n",
              "      <th>2006-12-16 17:26:00</th>\n",
              "      <td>5.374</td>\n",
              "      <td>0.498</td>\n",
              "      <td>233.290</td>\n",
              "      <td>23.000</td>\n",
              "      <td>0.000</td>\n",
              "      <td>2.000</td>\n",
              "      <td>17.0</td>\n",
              "    </tr>\n",
              "    <tr>\n",
              "      <th>2006-12-16 17:27:00</th>\n",
              "      <td>5.388</td>\n",
              "      <td>0.502</td>\n",
              "      <td>233.740</td>\n",
              "      <td>23.000</td>\n",
              "      <td>0.000</td>\n",
              "      <td>1.000</td>\n",
              "      <td>17.0</td>\n",
              "    </tr>\n",
              "    <tr>\n",
              "      <th>2006-12-16 17:28:00</th>\n",
              "      <td>3.666</td>\n",
              "      <td>0.528</td>\n",
              "      <td>235.680</td>\n",
              "      <td>15.800</td>\n",
              "      <td>0.000</td>\n",
              "      <td>1.000</td>\n",
              "      <td>17.0</td>\n",
              "    </tr>\n",
              "    <tr>\n",
              "      <th>...</th>\n",
              "      <td>...</td>\n",
              "      <td>...</td>\n",
              "      <td>...</td>\n",
              "      <td>...</td>\n",
              "      <td>...</td>\n",
              "      <td>...</td>\n",
              "      <td>...</td>\n",
              "    </tr>\n",
              "    <tr>\n",
              "      <th>2010-11-26 20:58:00</th>\n",
              "      <td>0.946</td>\n",
              "      <td>0.000</td>\n",
              "      <td>240.430</td>\n",
              "      <td>4.000</td>\n",
              "      <td>0.000</td>\n",
              "      <td>0.000</td>\n",
              "      <td>0.0</td>\n",
              "    </tr>\n",
              "    <tr>\n",
              "      <th>2010-11-26 20:59:00</th>\n",
              "      <td>0.944</td>\n",
              "      <td>0.000</td>\n",
              "      <td>240.000</td>\n",
              "      <td>4.000</td>\n",
              "      <td>0.000</td>\n",
              "      <td>0.000</td>\n",
              "      <td>0.0</td>\n",
              "    </tr>\n",
              "    <tr>\n",
              "      <th>2010-11-26 21:00:00</th>\n",
              "      <td>0.938</td>\n",
              "      <td>0.000</td>\n",
              "      <td>239.820</td>\n",
              "      <td>3.800</td>\n",
              "      <td>0.000</td>\n",
              "      <td>0.000</td>\n",
              "      <td>0.0</td>\n",
              "    </tr>\n",
              "    <tr>\n",
              "      <th>2010-11-26 21:01:00</th>\n",
              "      <td>0.934</td>\n",
              "      <td>0.000</td>\n",
              "      <td>239.700</td>\n",
              "      <td>3.800</td>\n",
              "      <td>0.000</td>\n",
              "      <td>0.000</td>\n",
              "      <td>0.0</td>\n",
              "    </tr>\n",
              "    <tr>\n",
              "      <th>2010-11-26 21:02:00</th>\n",
              "      <td>0.932</td>\n",
              "      <td>0.000</td>\n",
              "      <td>239.550</td>\n",
              "      <td>3.800</td>\n",
              "      <td>0.000</td>\n",
              "      <td>0.000</td>\n",
              "      <td>0.0</td>\n",
              "    </tr>\n",
              "  </tbody>\n",
              "</table>\n",
              "<p>2075259 rows × 7 columns</p>\n",
              "</div>"
            ],
            "text/plain": [
              "                    Global_active_power  ... Sub_metering_3\n",
              "datetime                                 ...               \n",
              "2006-12-16 17:24:00               4.216  ...           17.0\n",
              "2006-12-16 17:25:00               5.360  ...           16.0\n",
              "2006-12-16 17:26:00               5.374  ...           17.0\n",
              "2006-12-16 17:27:00               5.388  ...           17.0\n",
              "2006-12-16 17:28:00               3.666  ...           17.0\n",
              "...                                 ...  ...            ...\n",
              "2010-11-26 20:58:00               0.946  ...            0.0\n",
              "2010-11-26 20:59:00               0.944  ...            0.0\n",
              "2010-11-26 21:00:00               0.938  ...            0.0\n",
              "2010-11-26 21:01:00               0.934  ...            0.0\n",
              "2010-11-26 21:02:00               0.932  ...            0.0\n",
              "\n",
              "[2075259 rows x 7 columns]"
            ]
          },
          "metadata": {
            "tags": []
          },
          "execution_count": 5
        }
      ]
    },
    {
      "cell_type": "code",
      "metadata": {
        "id": "Dkhzmq4FgM4G",
        "outputId": "990d38b7-30b7-4c52-81e6-4183b1e50a0a",
        "colab": {
          "base_uri": "https://localhost:8080/",
          "height": 155
        }
      },
      "source": [
        "df.isnull().sum()"
      ],
      "execution_count": 6,
      "outputs": [
        {
          "output_type": "execute_result",
          "data": {
            "text/plain": [
              "Global_active_power          0\n",
              "Global_reactive_power        0\n",
              "Voltage                      0\n",
              "Global_intensity             0\n",
              "Sub_metering_1               0\n",
              "Sub_metering_2               0\n",
              "Sub_metering_3           25979\n",
              "dtype: int64"
            ]
          },
          "metadata": {
            "tags": []
          },
          "execution_count": 6
        }
      ]
    },
    {
      "cell_type": "code",
      "metadata": {
        "id": "ZM6c9082iDIR",
        "outputId": "d8105868-86f3-48d1-cb9b-144c3aa79987",
        "colab": {
          "base_uri": "https://localhost:8080/",
          "height": 34
        }
      },
      "source": [
        "null_num = 0\n",
        "for values in df.values.tolist():\n",
        "    for value in values:\n",
        "        if value == '?':\n",
        "            null_num += 1\n",
        "        else:\n",
        "            continue\n",
        "\n",
        "print('Total no of null values are: ', null_num)"
      ],
      "execution_count": 7,
      "outputs": [
        {
          "output_type": "stream",
          "text": [
            "Total no of null values are:  155874\n"
          ],
          "name": "stdout"
        }
      ]
    },
    {
      "cell_type": "code",
      "metadata": {
        "id": "p_vBMAMRitAa"
      },
      "source": [
        "df.replace('?', np.nan, inplace=True) "
      ],
      "execution_count": 8,
      "outputs": []
    },
    {
      "cell_type": "code",
      "metadata": {
        "id": "Rb0FAtzMi91n",
        "outputId": "78c4eba4-7114-41b6-92f5-a45e95a6bac7",
        "colab": {
          "base_uri": "https://localhost:8080/",
          "height": 155
        }
      },
      "source": [
        "df.isnull().sum()"
      ],
      "execution_count": 9,
      "outputs": [
        {
          "output_type": "execute_result",
          "data": {
            "text/plain": [
              "Global_active_power      25979\n",
              "Global_reactive_power    25979\n",
              "Voltage                  25979\n",
              "Global_intensity         25979\n",
              "Sub_metering_1           25979\n",
              "Sub_metering_2           25979\n",
              "Sub_metering_3           25979\n",
              "dtype: int64"
            ]
          },
          "metadata": {
            "tags": []
          },
          "execution_count": 9
        }
      ]
    },
    {
      "cell_type": "code",
      "metadata": {
        "id": "YqmG_U9sk3NQ",
        "outputId": "652244e8-c8dc-490e-c182-a3392dbfb9e2",
        "colab": {
          "base_uri": "https://localhost:8080/",
          "height": 69
        }
      },
      "source": [
        "df.select_dtypes(include=['object']).columns"
      ],
      "execution_count": 10,
      "outputs": [
        {
          "output_type": "execute_result",
          "data": {
            "text/plain": [
              "Index(['Global_active_power', 'Global_reactive_power', 'Voltage',\n",
              "       'Global_intensity', 'Sub_metering_1', 'Sub_metering_2'],\n",
              "      dtype='object')"
            ]
          },
          "metadata": {
            "tags": []
          },
          "execution_count": 10
        }
      ]
    },
    {
      "cell_type": "code",
      "metadata": {
        "id": "z8t-OGPxjKjH"
      },
      "source": [
        "for column in df.select_dtypes(include=['object']).columns:\n",
        "        df[column] = df[column].astype('float')"
      ],
      "execution_count": 11,
      "outputs": []
    },
    {
      "cell_type": "code",
      "metadata": {
        "id": "nNQOYCiilGKT",
        "outputId": "1e9f31e6-3d69-4ff4-f752-181c3055b812",
        "colab": {
          "base_uri": "https://localhost:8080/",
          "height": 258
        }
      },
      "source": [
        "df.info()"
      ],
      "execution_count": 12,
      "outputs": [
        {
          "output_type": "stream",
          "text": [
            "<class 'pandas.core.frame.DataFrame'>\n",
            "DatetimeIndex: 2075259 entries, 2006-12-16 17:24:00 to 2010-11-26 21:02:00\n",
            "Data columns (total 7 columns):\n",
            " #   Column                 Dtype  \n",
            "---  ------                 -----  \n",
            " 0   Global_active_power    float64\n",
            " 1   Global_reactive_power  float64\n",
            " 2   Voltage                float64\n",
            " 3   Global_intensity       float64\n",
            " 4   Sub_metering_1         float64\n",
            " 5   Sub_metering_2         float64\n",
            " 6   Sub_metering_3         float64\n",
            "dtypes: float64(7)\n",
            "memory usage: 126.7 MB\n"
          ],
          "name": "stdout"
        }
      ]
    },
    {
      "cell_type": "code",
      "metadata": {
        "id": "SxMRIIOfiYuV"
      },
      "source": [
        "df = df.fillna({'Global_active_power':df['Global_active_power'].mean(), 'Global_reactive_power':df['Global_reactive_power'].mean(),\n",
        "           'Voltage':df['Voltage'].mean(), 'Global_intensity':df['Global_intensity'].mean(),\n",
        "           'Sub_metering_1':df['Sub_metering_1'].mean(), 'Sub_metering_2':df['Sub_metering_2'].mean(),\n",
        "           'Sub_metering_3':df['Sub_metering_3'].mean()})"
      ],
      "execution_count": 13,
      "outputs": []
    },
    {
      "cell_type": "code",
      "metadata": {
        "id": "Ugn2joynlKl6"
      },
      "source": [
        "new_df = df.copy()"
      ],
      "execution_count": 14,
      "outputs": []
    },
    {
      "cell_type": "code",
      "metadata": {
        "id": "T7AAUQ_nmXKQ",
        "outputId": "9a64bd7c-642a-4b1b-f7dc-c1e627c9c659",
        "colab": {
          "base_uri": "https://localhost:8080/",
          "height": 155
        }
      },
      "source": [
        "new_df.isnull().sum()"
      ],
      "execution_count": 15,
      "outputs": [
        {
          "output_type": "execute_result",
          "data": {
            "text/plain": [
              "Global_active_power      0\n",
              "Global_reactive_power    0\n",
              "Voltage                  0\n",
              "Global_intensity         0\n",
              "Sub_metering_1           0\n",
              "Sub_metering_2           0\n",
              "Sub_metering_3           0\n",
              "dtype: int64"
            ]
          },
          "metadata": {
            "tags": []
          },
          "execution_count": 15
        }
      ]
    },
    {
      "cell_type": "markdown",
      "metadata": {
        "id": "WgZi4llev4zC"
      },
      "source": [
        "##Using the 'Global_active_power' column"
      ]
    },
    {
      "cell_type": "code",
      "metadata": {
        "id": "2lcer3zWmf5z",
        "outputId": "c2b63ae7-1167-4f9b-f346-3d9e7b4ac00f",
        "colab": {
          "base_uri": "https://localhost:8080/",
          "height": 388
        }
      },
      "source": [
        "plt.figure(figsize=(10,6))\n",
        "plt.plot(new_df.index, new_df['Global_active_power'], '-')\n",
        "plt.grid()\n",
        "plt.xlabel('Year')\n",
        "plt.ylabel('Global_active_power')\n",
        "plt.show()"
      ],
      "execution_count": 16,
      "outputs": [
        {
          "output_type": "display_data",
          "data": {
            "image/png": "[encoded data removed]",
            "text/plain": [
              "<Figure size 720x432 with 1 Axes>"
            ]
          },
          "metadata": {
            "tags": [],
            "needs_background": "light"
          }
        }
      ]
    },
    {
      "cell_type": "markdown",
      "metadata": {
        "id": "uLtSEmvlssN9"
      },
      "source": [
        "###Downsampling the data to daily timeframe"
      ]
    },
    {
      "cell_type": "code",
      "metadata": {
        "id": "8QfVayHOseW3"
      },
      "source": [
        "daily_df = new_df.resample('D').sum()"
      ],
      "execution_count": 36,
      "outputs": []
    },
    {
      "cell_type": "code",
      "metadata": {
        "id": "irejrHoGtE6m",
        "outputId": "86cc2cd3-e488-4c83-daed-a082b3953b96",
        "colab": {
          "base_uri": "https://localhost:8080/",
          "height": 34
        }
      },
      "source": [
        "daily_df.isnull().values.sum()"
      ],
      "execution_count": 37,
      "outputs": [
        {
          "output_type": "execute_result",
          "data": {
            "text/plain": [
              "0"
            ]
          },
          "metadata": {
            "tags": []
          },
          "execution_count": 37
        }
      ]
    },
    {
      "cell_type": "code",
      "metadata": {
        "id": "QCEkFCY9s9E1",
        "outputId": "1ba58316-b2d9-43eb-aa10-0d9fb708e718",
        "colab": {
          "base_uri": "https://localhost:8080/",
          "height": 404
        }
      },
      "source": [
        "plt.figure(figsize=(10,6))\n",
        "plt.plot(daily_df.index, daily_df['Global_active_power'], '-')\n",
        "plt.grid()\n",
        "plt.title('After daily downsampling')\n",
        "plt.xlabel('Year')\n",
        "plt.ylabel('Global_active_power')\n",
        "plt.show()"
      ],
      "execution_count": 38,
      "outputs": [
        {
          "output_type": "display_data",
          "data": {
            "image/png": "[encoded data removed]",
            "text/plain": [
              "<Figure size 720x432 with 1 Axes>"
            ]
          },
          "metadata": {
            "tags": [],
            "needs_background": "light"
          }
        }
      ]
    },
    {
      "cell_type": "code",
      "metadata": {
        "id": "AIc2ZHlutXds",
        "outputId": "95f9bece-afdc-402e-da7f-23b57c00f75d",
        "colab": {
          "base_uri": "https://localhost:8080/",
          "height": 34
        }
      },
      "source": [
        "print('no of observations after daily downsampling is {}'.format(len(new_df_daily)))"
      ],
      "execution_count": 20,
      "outputs": [
        {
          "output_type": "stream",
          "text": [
            "no of observations after daily downsampling is 1442\n"
          ],
          "name": "stdout"
        }
      ]
    },
    {
      "cell_type": "code",
      "metadata": {
        "id": "842teltKkAKS"
      },
      "source": [
        "global_a = new_df_daily['Global_active_power']\n",
        "global_r= new_df_daily['Global_reactive_power']"
      ],
      "execution_count": 24,
      "outputs": []
    },
    {
      "cell_type": "code",
      "metadata": {
        "id": "Ph8a0Zf7kNHu",
        "outputId": "ac51633d-bc2a-48db-f4dd-c6d18c3e9d06",
        "colab": {
          "base_uri": "https://localhost:8080/",
          "height": 34
        }
      },
      "source": [
        "from scipy.stats import pearsonr\n",
        "corr, _ = pearsonr(global_a, global_r)\n",
        "print('Pearsons correlation: %.2f' % corr)"
      ],
      "execution_count": 25,
      "outputs": [
        {
          "output_type": "stream",
          "text": [
            "Pearsons correlation: 0.04\n"
          ],
          "name": "stdout"
        }
      ]
    },
    {
      "cell_type": "code",
      "metadata": {
        "id": "KL_EjQte6qIA"
      },
      "source": [
        "global_a_p = new_df['Global_active_power']\n",
        "global_r_p = new_df['Global_reactive_power']"
      ],
      "execution_count": 26,
      "outputs": []
    },
    {
      "cell_type": "code",
      "metadata": {
        "id": "DtM_hvS-bxVj",
        "outputId": "3393e18f-6527-4428-eee8-c31f72947840",
        "colab": {
          "base_uri": "https://localhost:8080/",
          "height": 34
        }
      },
      "source": [
        "corr, _ = pearsonr(global_a_p, global_r_p)\n",
        "print('Pearsons correlation: %.2f' % corr)"
      ],
      "execution_count": 27,
      "outputs": [
        {
          "output_type": "stream",
          "text": [
            "Pearsons correlation: 0.25\n"
          ],
          "name": "stdout"
        }
      ]
    },
    {
      "cell_type": "code",
      "metadata": {
        "id": "Sj7f17XRcJSd"
      },
      "source": [
        "voltage = new_df_daily['Voltage']\n",
        "global_i = new_df_daily['Global_intensity']"
      ],
      "execution_count": 28,
      "outputs": []
    },
    {
      "cell_type": "code",
      "metadata": {
        "id": "cvk6DBEkcb_7",
        "outputId": "c7de97f8-ba96-4dce-86d6-e6abfd282738",
        "colab": {
          "base_uri": "https://localhost:8080/",
          "height": 34
        }
      },
      "source": [
        "corr, _ = pearsonr(voltage, global_i)\n",
        "print('Pearsons correlation: %.2f' % corr)"
      ],
      "execution_count": 29,
      "outputs": [
        {
          "output_type": "stream",
          "text": [
            "Pearsons correlation: 0.05\n"
          ],
          "name": "stdout"
        }
      ]
    },
    {
      "cell_type": "code",
      "metadata": {
        "id": "evNV_c0SlOEA"
      },
      "source": [
        "voltage_d = df['Voltage']\n",
        "global_I = df['Global_intensity']"
      ],
      "execution_count": 30,
      "outputs": []
    },
    {
      "cell_type": "code",
      "metadata": {
        "id": "16SDSq1Z7Enx",
        "outputId": "db2c75c6-ebfc-4bdb-b1f9-084fc53de329",
        "colab": {
          "base_uri": "https://localhost:8080/",
          "height": 34
        }
      },
      "source": [
        "corr, _ = pearsonr(voltage_d, global_I)\n",
        "print('Pearsons correlation: %.2f' % corr)"
      ],
      "execution_count": 31,
      "outputs": [
        {
          "output_type": "stream",
          "text": [
            "Pearsons correlation: -0.41\n"
          ],
          "name": "stdout"
        }
      ]
    },
    {
      "cell_type": "code",
      "metadata": {
        "id": "5x_lrbuSxEw5",
        "outputId": "74578c18-2f1d-44c2-c275-cc244df0792a",
        "colab": {
          "base_uri": "https://localhost:8080/",
          "height": 585
        }
      },
      "source": [
        "import statsmodels.api as sm\n",
        "from pylab import rcParams\n",
        "rcParams['figure.figsize'] = 18, 8\n",
        "data_daily = sm.tsa.seasonal_decompose(new_df_daily['Global_active_power'], model='additive')\n",
        "data_daily.plot()\n",
        "plt.show()"
      ],
      "execution_count": 35,
      "outputs": [
        {
          "output_type": "display_data",
          "data": {
            "image/png": "[encoded data removed]",
            "text/plain": [
              "<Figure size 1296x576 with 4 Axes>"
            ]
          },
          "metadata": {
            "tags": [],
            "needs_background": "light"
          }
        }
      ]
    },
    {
      "cell_type": "code",
      "metadata": {
        "id": "Kjn48UJNzuId",
        "outputId": "0e413d57-d749-4ee4-9fc7-80810151a868",
        "colab": {
          "base_uri": "https://localhost:8080/",
          "height": 147
        }
      },
      "source": [
        "\n",
        "from statsmodels.tsa.stattools import adfuller \n",
        "adf_result = adfuller(new_df_daily['Global_active_power'])\n",
        "print(f'ADF Statistic: {adf_result[0]}')\n",
        "print(f'p_value: {adf_result[1]}')\n",
        "print(f'No. of lags used: {adf_result[2]}')\n",
        "print(f'No. of observations used: {adf_result[3]}')\n",
        "print(f'Critical_values:')\n",
        "for k, v in adf_result[4].items():\n",
        "  print(f'  {k} : {v}')"
      ],
      "execution_count": null,
      "outputs": [
        {
          "output_type": "stream",
          "text": [
            "ADF Statistic: -3.7317038452674414\n",
            "p_value: 0.003688677846598547\n",
            "No. of lags used: 22\n",
            "No. of observations used: 1419\n",
            "Critical_values:\n",
            "  1% : -3.434966750462565\n",
            "  5% : -2.8635789736973725\n",
            "  10% : -2.5678555388041384\n"
          ],
          "name": "stdout"
        }
      ]
    },
    {
      "cell_type": "code",
      "metadata": {
        "id": "bKzY2C7j2aSh",
        "outputId": "aca0ba35-7d4b-440e-e86d-c7f9875a1104",
        "colab": {
          "base_uri": "https://localhost:8080/",
          "height": 231
        }
      },
      "source": [
        "daily_df.head()"
      ],
      "execution_count": 39,
      "outputs": [
        {
          "output_type": "execute_result",
          "data": {
            "text/html": [
              "<div>\n",
              "<style scoped>\n",
              "    .dataframe tbody tr th:only-of-type {\n",
              "        vertical-align: middle;\n",
              "    }\n",
              "\n",
              "    .dataframe tbody tr th {\n",
              "        vertical-align: top;\n",
              "    }\n",
              "\n",
              "    .dataframe thead th {\n",
              "        text-align: right;\n",
              "    }\n",
              "</style>\n",
              "<table border=\"1\" class=\"dataframe\">\n",
              "  <thead>\n",
              "    <tr style=\"text-align: right;\">\n",
              "      <th></th>\n",
              "      <th>Global_active_power</th>\n",
              "      <th>Global_reactive_power</th>\n",
              "      <th>Voltage</th>\n",
              "      <th>Global_intensity</th>\n",
              "      <th>Sub_metering_1</th>\n",
              "      <th>Sub_metering_2</th>\n",
              "      <th>Sub_metering_3</th>\n",
              "    </tr>\n",
              "    <tr>\n",
              "      <th>datetime</th>\n",
              "      <th></th>\n",
              "      <th></th>\n",
              "      <th></th>\n",
              "      <th></th>\n",
              "      <th></th>\n",
              "      <th></th>\n",
              "      <th></th>\n",
              "    </tr>\n",
              "  </thead>\n",
              "  <tbody>\n",
              "    <tr>\n",
              "      <th>2006-12-16</th>\n",
              "      <td>1209.176</td>\n",
              "      <td>34.922</td>\n",
              "      <td>93552.53</td>\n",
              "      <td>5180.8</td>\n",
              "      <td>0.0</td>\n",
              "      <td>546.0</td>\n",
              "      <td>4926.0</td>\n",
              "    </tr>\n",
              "    <tr>\n",
              "      <th>2006-12-17</th>\n",
              "      <td>3390.460</td>\n",
              "      <td>226.006</td>\n",
              "      <td>345725.32</td>\n",
              "      <td>14398.6</td>\n",
              "      <td>2033.0</td>\n",
              "      <td>4187.0</td>\n",
              "      <td>13341.0</td>\n",
              "    </tr>\n",
              "    <tr>\n",
              "      <th>2006-12-18</th>\n",
              "      <td>2203.826</td>\n",
              "      <td>161.792</td>\n",
              "      <td>347373.64</td>\n",
              "      <td>9247.2</td>\n",
              "      <td>1063.0</td>\n",
              "      <td>2621.0</td>\n",
              "      <td>14018.0</td>\n",
              "    </tr>\n",
              "    <tr>\n",
              "      <th>2006-12-19</th>\n",
              "      <td>1666.194</td>\n",
              "      <td>150.942</td>\n",
              "      <td>348479.01</td>\n",
              "      <td>7094.0</td>\n",
              "      <td>839.0</td>\n",
              "      <td>7602.0</td>\n",
              "      <td>6197.0</td>\n",
              "    </tr>\n",
              "    <tr>\n",
              "      <th>2006-12-20</th>\n",
              "      <td>2225.748</td>\n",
              "      <td>160.998</td>\n",
              "      <td>348923.61</td>\n",
              "      <td>9313.0</td>\n",
              "      <td>0.0</td>\n",
              "      <td>2648.0</td>\n",
              "      <td>14063.0</td>\n",
              "    </tr>\n",
              "  </tbody>\n",
              "</table>\n",
              "</div>"
            ],
            "text/plain": [
              "            Global_active_power  ...  Sub_metering_3\n",
              "datetime                         ...                \n",
              "2006-12-16             1209.176  ...          4926.0\n",
              "2006-12-17             3390.460  ...         13341.0\n",
              "2006-12-18             2203.826  ...         14018.0\n",
              "2006-12-19             1666.194  ...          6197.0\n",
              "2006-12-20             2225.748  ...         14063.0\n",
              "\n",
              "[5 rows x 7 columns]"
            ]
          },
          "metadata": {
            "tags": []
          },
          "execution_count": 39
        }
      ]
    },
    {
      "cell_type": "code",
      "metadata": {
        "id": "pJwBfo6_4XVD",
        "outputId": "2d2b5cc6-ec01-4cba-ddaa-95f34b98ebf6",
        "colab": {
          "base_uri": "https://localhost:8080/",
          "height": 201
        }
      },
      "source": [
        "new_daily_df = daily_df.reset_index()\n",
        "new_daily_df.head()"
      ],
      "execution_count": 40,
      "outputs": [
        {
          "output_type": "execute_result",
          "data": {
            "text/html": [
              "<div>\n",
              "<style scoped>\n",
              "    .dataframe tbody tr th:only-of-type {\n",
              "        vertical-align: middle;\n",
              "    }\n",
              "\n",
              "    .dataframe tbody tr th {\n",
              "        vertical-align: top;\n",
              "    }\n",
              "\n",
              "    .dataframe thead th {\n",
              "        text-align: right;\n",
              "    }\n",
              "</style>\n",
              "<table border=\"1\" class=\"dataframe\">\n",
              "  <thead>\n",
              "    <tr style=\"text-align: right;\">\n",
              "      <th></th>\n",
              "      <th>datetime</th>\n",
              "      <th>Global_active_power</th>\n",
              "      <th>Global_reactive_power</th>\n",
              "      <th>Voltage</th>\n",
              "      <th>Global_intensity</th>\n",
              "      <th>Sub_metering_1</th>\n",
              "      <th>Sub_metering_2</th>\n",
              "      <th>Sub_metering_3</th>\n",
              "    </tr>\n",
              "  </thead>\n",
              "  <tbody>\n",
              "    <tr>\n",
              "      <th>0</th>\n",
              "      <td>2006-12-16</td>\n",
              "      <td>1209.176</td>\n",
              "      <td>34.922</td>\n",
              "      <td>93552.53</td>\n",
              "      <td>5180.8</td>\n",
              "      <td>0.0</td>\n",
              "      <td>546.0</td>\n",
              "      <td>4926.0</td>\n",
              "    </tr>\n",
              "    <tr>\n",
              "      <th>1</th>\n",
              "      <td>2006-12-17</td>\n",
              "      <td>3390.460</td>\n",
              "      <td>226.006</td>\n",
              "      <td>345725.32</td>\n",
              "      <td>14398.6</td>\n",
              "      <td>2033.0</td>\n",
              "      <td>4187.0</td>\n",
              "      <td>13341.0</td>\n",
              "    </tr>\n",
              "    <tr>\n",
              "      <th>2</th>\n",
              "      <td>2006-12-18</td>\n",
              "      <td>2203.826</td>\n",
              "      <td>161.792</td>\n",
              "      <td>347373.64</td>\n",
              "      <td>9247.2</td>\n",
              "      <td>1063.0</td>\n",
              "      <td>2621.0</td>\n",
              "      <td>14018.0</td>\n",
              "    </tr>\n",
              "    <tr>\n",
              "      <th>3</th>\n",
              "      <td>2006-12-19</td>\n",
              "      <td>1666.194</td>\n",
              "      <td>150.942</td>\n",
              "      <td>348479.01</td>\n",
              "      <td>7094.0</td>\n",
              "      <td>839.0</td>\n",
              "      <td>7602.0</td>\n",
              "      <td>6197.0</td>\n",
              "    </tr>\n",
              "    <tr>\n",
              "      <th>4</th>\n",
              "      <td>2006-12-20</td>\n",
              "      <td>2225.748</td>\n",
              "      <td>160.998</td>\n",
              "      <td>348923.61</td>\n",
              "      <td>9313.0</td>\n",
              "      <td>0.0</td>\n",
              "      <td>2648.0</td>\n",
              "      <td>14063.0</td>\n",
              "    </tr>\n",
              "  </tbody>\n",
              "</table>\n",
              "</div>"
            ],
            "text/plain": [
              "    datetime  Global_active_power  ...  Sub_metering_2  Sub_metering_3\n",
              "0 2006-12-16             1209.176  ...           546.0          4926.0\n",
              "1 2006-12-17             3390.460  ...          4187.0         13341.0\n",
              "2 2006-12-18             2203.826  ...          2621.0         14018.0\n",
              "3 2006-12-19             1666.194  ...          7602.0          6197.0\n",
              "4 2006-12-20             2225.748  ...          2648.0         14063.0\n",
              "\n",
              "[5 rows x 8 columns]"
            ]
          },
          "metadata": {
            "tags": []
          },
          "execution_count": 40
        }
      ]
    },
    {
      "cell_type": "code",
      "metadata": {
        "id": "_2o4yNdz4oOR",
        "outputId": "2a93c72a-c056-4440-9888-36063b67dc98",
        "colab": {
          "base_uri": "https://localhost:8080/",
          "height": 218
        }
      },
      "source": [
        "\n",
        "new_daily_df = new_daily_df[['datetime', 'Global_active_power']]\n",
        "new_daily_df = new_daily_df.rename(columns={'datetime':'ds', 'Global_active_power':'y'})\n",
        "print(new_daily_df.shape)\n",
        "new_daily_df.head()"
      ],
      "execution_count": 41,
      "outputs": [
        {
          "output_type": "stream",
          "text": [
            "(1442, 2)\n"
          ],
          "name": "stdout"
        },
        {
          "output_type": "execute_result",
          "data": {
            "text/html": [
              "<div>\n",
              "<style scoped>\n",
              "    .dataframe tbody tr th:only-of-type {\n",
              "        vertical-align: middle;\n",
              "    }\n",
              "\n",
              "    .dataframe tbody tr th {\n",
              "        vertical-align: top;\n",
              "    }\n",
              "\n",
              "    .dataframe thead th {\n",
              "        text-align: right;\n",
              "    }\n",
              "</style>\n",
              "<table border=\"1\" class=\"dataframe\">\n",
              "  <thead>\n",
              "    <tr style=\"text-align: right;\">\n",
              "      <th></th>\n",
              "      <th>ds</th>\n",
              "      <th>y</th>\n",
              "    </tr>\n",
              "  </thead>\n",
              "  <tbody>\n",
              "    <tr>\n",
              "      <th>0</th>\n",
              "      <td>2006-12-16</td>\n",
              "      <td>1209.176</td>\n",
              "    </tr>\n",
              "    <tr>\n",
              "      <th>1</th>\n",
              "      <td>2006-12-17</td>\n",
              "      <td>3390.460</td>\n",
              "    </tr>\n",
              "    <tr>\n",
              "      <th>2</th>\n",
              "      <td>2006-12-18</td>\n",
              "      <td>2203.826</td>\n",
              "    </tr>\n",
              "    <tr>\n",
              "      <th>3</th>\n",
              "      <td>2006-12-19</td>\n",
              "      <td>1666.194</td>\n",
              "    </tr>\n",
              "    <tr>\n",
              "      <th>4</th>\n",
              "      <td>2006-12-20</td>\n",
              "      <td>2225.748</td>\n",
              "    </tr>\n",
              "  </tbody>\n",
              "</table>\n",
              "</div>"
            ],
            "text/plain": [
              "          ds         y\n",
              "0 2006-12-16  1209.176\n",
              "1 2006-12-17  3390.460\n",
              "2 2006-12-18  2203.826\n",
              "3 2006-12-19  1666.194\n",
              "4 2006-12-20  2225.748"
            ]
          },
          "metadata": {
            "tags": []
          },
          "execution_count": 41
        }
      ]
    },
    {
      "cell_type": "code",
      "metadata": {
        "id": "xxXaUK65vYDb",
        "outputId": "b4e0c069-2613-4f81-b753-181464731074",
        "colab": {
          "base_uri": "https://localhost:8080/",
          "height": 218
        }
      },
      "source": [
        "test = new_daily_df[-365:]\n",
        "print(test.shape)\n",
        "data.head()"
      ],
      "execution_count": 69,
      "outputs": [
        {
          "output_type": "stream",
          "text": [
            "(365, 2)\n"
          ],
          "name": "stdout"
        },
        {
          "output_type": "execute_result",
          "data": {
            "text/html": [
              "<div>\n",
              "<style scoped>\n",
              "    .dataframe tbody tr th:only-of-type {\n",
              "        vertical-align: middle;\n",
              "    }\n",
              "\n",
              "    .dataframe tbody tr th {\n",
              "        vertical-align: top;\n",
              "    }\n",
              "\n",
              "    .dataframe thead th {\n",
              "        text-align: right;\n",
              "    }\n",
              "</style>\n",
              "<table border=\"1\" class=\"dataframe\">\n",
              "  <thead>\n",
              "    <tr style=\"text-align: right;\">\n",
              "      <th></th>\n",
              "      <th>ds</th>\n",
              "      <th>y</th>\n",
              "    </tr>\n",
              "  </thead>\n",
              "  <tbody>\n",
              "    <tr>\n",
              "      <th>1077</th>\n",
              "      <td>2009-11-27</td>\n",
              "      <td>1380.026</td>\n",
              "    </tr>\n",
              "    <tr>\n",
              "      <th>1078</th>\n",
              "      <td>2009-11-28</td>\n",
              "      <td>1858.950</td>\n",
              "    </tr>\n",
              "    <tr>\n",
              "      <th>1079</th>\n",
              "      <td>2009-11-29</td>\n",
              "      <td>1650.962</td>\n",
              "    </tr>\n",
              "    <tr>\n",
              "      <th>1080</th>\n",
              "      <td>2009-11-30</td>\n",
              "      <td>1745.190</td>\n",
              "    </tr>\n",
              "    <tr>\n",
              "      <th>1081</th>\n",
              "      <td>2009-12-01</td>\n",
              "      <td>1756.378</td>\n",
              "    </tr>\n",
              "  </tbody>\n",
              "</table>\n",
              "</div>"
            ],
            "text/plain": [
              "             ds         y\n",
              "1077 2009-11-27  1380.026\n",
              "1078 2009-11-28  1858.950\n",
              "1079 2009-11-29  1650.962\n",
              "1080 2009-11-30  1745.190\n",
              "1081 2009-12-01  1756.378"
            ]
          },
          "metadata": {
            "tags": []
          },
          "execution_count": 69
        }
      ]
    },
    {
      "cell_type": "code",
      "metadata": {
        "id": "x_XD7apBwgJ9",
        "outputId": "2f76c2d7-0688-4d3c-e93e-89403a416519",
        "colab": {
          "base_uri": "https://localhost:8080/",
          "height": 218
        }
      },
      "source": [
        "train = new_daily_df[:-365]\n",
        "print(train.shape)\n",
        "train.head()"
      ],
      "execution_count": 70,
      "outputs": [
        {
          "output_type": "stream",
          "text": [
            "(1077, 2)\n"
          ],
          "name": "stdout"
        },
        {
          "output_type": "execute_result",
          "data": {
            "text/html": [
              "<div>\n",
              "<style scoped>\n",
              "    .dataframe tbody tr th:only-of-type {\n",
              "        vertical-align: middle;\n",
              "    }\n",
              "\n",
              "    .dataframe tbody tr th {\n",
              "        vertical-align: top;\n",
              "    }\n",
              "\n",
              "    .dataframe thead th {\n",
              "        text-align: right;\n",
              "    }\n",
              "</style>\n",
              "<table border=\"1\" class=\"dataframe\">\n",
              "  <thead>\n",
              "    <tr style=\"text-align: right;\">\n",
              "      <th></th>\n",
              "      <th>ds</th>\n",
              "      <th>y</th>\n",
              "    </tr>\n",
              "  </thead>\n",
              "  <tbody>\n",
              "    <tr>\n",
              "      <th>0</th>\n",
              "      <td>2006-12-16</td>\n",
              "      <td>1209.176</td>\n",
              "    </tr>\n",
              "    <tr>\n",
              "      <th>1</th>\n",
              "      <td>2006-12-17</td>\n",
              "      <td>3390.460</td>\n",
              "    </tr>\n",
              "    <tr>\n",
              "      <th>2</th>\n",
              "      <td>2006-12-18</td>\n",
              "      <td>2203.826</td>\n",
              "    </tr>\n",
              "    <tr>\n",
              "      <th>3</th>\n",
              "      <td>2006-12-19</td>\n",
              "      <td>1666.194</td>\n",
              "    </tr>\n",
              "    <tr>\n",
              "      <th>4</th>\n",
              "      <td>2006-12-20</td>\n",
              "      <td>2225.748</td>\n",
              "    </tr>\n",
              "  </tbody>\n",
              "</table>\n",
              "</div>"
            ],
            "text/plain": [
              "          ds         y\n",
              "0 2006-12-16  1209.176\n",
              "1 2006-12-17  3390.460\n",
              "2 2006-12-18  2203.826\n",
              "3 2006-12-19  1666.194\n",
              "4 2006-12-20  2225.748"
            ]
          },
          "metadata": {
            "tags": []
          },
          "execution_count": 70
        }
      ]
    },
    {
      "cell_type": "code",
      "metadata": {
        "id": "EQ3RC0mkxrlL"
      },
      "source": [
        "assert len(train) == (len(new_daily_df)-365)"
      ],
      "execution_count": 71,
      "outputs": []
    },
    {
      "cell_type": "code",
      "metadata": {
        "id": "HFjJTFNp5kpt",
        "outputId": "dab1a22e-e11e-4128-fab1-c967fdcd8bfc",
        "colab": {
          "base_uri": "https://localhost:8080/",
          "height": 51
        }
      },
      "source": [
        "from fbprophet import Prophet\n",
        "model = Prophet()\n",
        "model.fit(train)"
      ],
      "execution_count": 72,
      "outputs": [
        {
          "output_type": "stream",
          "text": [
            "INFO:fbprophet:Disabling daily seasonality. Run prophet with daily_seasonality=True to override this.\n"
          ],
          "name": "stderr"
        },
        {
          "output_type": "execute_result",
          "data": {
            "text/plain": [
              "<fbprophet.forecaster.Prophet at 0x7ff8b45a2d68>"
            ]
          },
          "metadata": {
            "tags": []
          },
          "execution_count": 72
        }
      ]
    },
    {
      "cell_type": "code",
      "metadata": {
        "id": "wMIU9Guy5q49",
        "outputId": "c5be3704-a206-46ea-e470-9d2ef26a915b",
        "colab": {
          "base_uri": "https://localhost:8080/",
          "height": 307
        }
      },
      "source": [
        "future = model.make_future_dataframe(periods=365, freq='D') \n",
        "forecast = model.predict(future) \n",
        "forecast.head()"
      ],
      "execution_count": 47,
      "outputs": [
        {
          "output_type": "execute_result",
          "data": {
            "text/html": [
              "<div>\n",
              "<style scoped>\n",
              "    .dataframe tbody tr th:only-of-type {\n",
              "        vertical-align: middle;\n",
              "    }\n",
              "\n",
              "    .dataframe tbody tr th {\n",
              "        vertical-align: top;\n",
              "    }\n",
              "\n",
              "    .dataframe thead th {\n",
              "        text-align: right;\n",
              "    }\n",
              "</style>\n",
              "<table border=\"1\" class=\"dataframe\">\n",
              "  <thead>\n",
              "    <tr style=\"text-align: right;\">\n",
              "      <th></th>\n",
              "      <th>ds</th>\n",
              "      <th>trend</th>\n",
              "      <th>yhat_lower</th>\n",
              "      <th>yhat_upper</th>\n",
              "      <th>trend_lower</th>\n",
              "      <th>trend_upper</th>\n",
              "      <th>additive_terms</th>\n",
              "      <th>additive_terms_lower</th>\n",
              "      <th>additive_terms_upper</th>\n",
              "      <th>weekly</th>\n",
              "      <th>weekly_lower</th>\n",
              "      <th>weekly_upper</th>\n",
              "      <th>yearly</th>\n",
              "      <th>yearly_lower</th>\n",
              "      <th>yearly_upper</th>\n",
              "      <th>multiplicative_terms</th>\n",
              "      <th>multiplicative_terms_lower</th>\n",
              "      <th>multiplicative_terms_upper</th>\n",
              "      <th>yhat</th>\n",
              "    </tr>\n",
              "  </thead>\n",
              "  <tbody>\n",
              "    <tr>\n",
              "      <th>0</th>\n",
              "      <td>2006-12-16</td>\n",
              "      <td>1651.870476</td>\n",
              "      <td>1872.964833</td>\n",
              "      <td>2979.586088</td>\n",
              "      <td>1651.870476</td>\n",
              "      <td>1651.870476</td>\n",
              "      <td>775.803954</td>\n",
              "      <td>775.803954</td>\n",
              "      <td>775.803954</td>\n",
              "      <td>245.727868</td>\n",
              "      <td>245.727868</td>\n",
              "      <td>245.727868</td>\n",
              "      <td>530.076086</td>\n",
              "      <td>530.076086</td>\n",
              "      <td>530.076086</td>\n",
              "      <td>0.0</td>\n",
              "      <td>0.0</td>\n",
              "      <td>0.0</td>\n",
              "      <td>2427.674430</td>\n",
              "    </tr>\n",
              "    <tr>\n",
              "      <th>1</th>\n",
              "      <td>2006-12-17</td>\n",
              "      <td>1651.695654</td>\n",
              "      <td>1886.330749</td>\n",
              "      <td>2989.969122</td>\n",
              "      <td>1651.695654</td>\n",
              "      <td>1651.695654</td>\n",
              "      <td>772.611682</td>\n",
              "      <td>772.611682</td>\n",
              "      <td>772.611682</td>\n",
              "      <td>228.437514</td>\n",
              "      <td>228.437514</td>\n",
              "      <td>228.437514</td>\n",
              "      <td>544.174167</td>\n",
              "      <td>544.174167</td>\n",
              "      <td>544.174167</td>\n",
              "      <td>0.0</td>\n",
              "      <td>0.0</td>\n",
              "      <td>0.0</td>\n",
              "      <td>2424.307336</td>\n",
              "    </tr>\n",
              "    <tr>\n",
              "      <th>2</th>\n",
              "      <td>2006-12-18</td>\n",
              "      <td>1651.520833</td>\n",
              "      <td>1485.820433</td>\n",
              "      <td>2627.577242</td>\n",
              "      <td>1651.520833</td>\n",
              "      <td>1651.520833</td>\n",
              "      <td>397.879289</td>\n",
              "      <td>397.879289</td>\n",
              "      <td>397.879289</td>\n",
              "      <td>-161.218418</td>\n",
              "      <td>-161.218418</td>\n",
              "      <td>-161.218418</td>\n",
              "      <td>559.097707</td>\n",
              "      <td>559.097707</td>\n",
              "      <td>559.097707</td>\n",
              "      <td>0.0</td>\n",
              "      <td>0.0</td>\n",
              "      <td>0.0</td>\n",
              "      <td>2049.400122</td>\n",
              "    </tr>\n",
              "    <tr>\n",
              "      <th>3</th>\n",
              "      <td>2006-12-19</td>\n",
              "      <td>1651.346012</td>\n",
              "      <td>1677.176336</td>\n",
              "      <td>2757.881224</td>\n",
              "      <td>1651.346012</td>\n",
              "      <td>1651.346012</td>\n",
              "      <td>545.082036</td>\n",
              "      <td>545.082036</td>\n",
              "      <td>545.082036</td>\n",
              "      <td>-29.322660</td>\n",
              "      <td>-29.322660</td>\n",
              "      <td>-29.322660</td>\n",
              "      <td>574.404696</td>\n",
              "      <td>574.404696</td>\n",
              "      <td>574.404696</td>\n",
              "      <td>0.0</td>\n",
              "      <td>0.0</td>\n",
              "      <td>0.0</td>\n",
              "      <td>2196.428047</td>\n",
              "    </tr>\n",
              "    <tr>\n",
              "      <th>4</th>\n",
              "      <td>2006-12-20</td>\n",
              "      <td>1651.171190</td>\n",
              "      <td>1650.886213</td>\n",
              "      <td>2767.764219</td>\n",
              "      <td>1651.171190</td>\n",
              "      <td>1651.171190</td>\n",
              "      <td>564.928312</td>\n",
              "      <td>564.928312</td>\n",
              "      <td>564.928312</td>\n",
              "      <td>-24.708936</td>\n",
              "      <td>-24.708936</td>\n",
              "      <td>-24.708936</td>\n",
              "      <td>589.637248</td>\n",
              "      <td>589.637248</td>\n",
              "      <td>589.637248</td>\n",
              "      <td>0.0</td>\n",
              "      <td>0.0</td>\n",
              "      <td>0.0</td>\n",
              "      <td>2216.099502</td>\n",
              "    </tr>\n",
              "  </tbody>\n",
              "</table>\n",
              "</div>"
            ],
            "text/plain": [
              "          ds        trend  ...  multiplicative_terms_upper         yhat\n",
              "0 2006-12-16  1651.870476  ...                         0.0  2427.674430\n",
              "1 2006-12-17  1651.695654  ...                         0.0  2424.307336\n",
              "2 2006-12-18  1651.520833  ...                         0.0  2049.400122\n",
              "3 2006-12-19  1651.346012  ...                         0.0  2196.428047\n",
              "4 2006-12-20  1651.171190  ...                         0.0  2216.099502\n",
              "\n",
              "[5 rows x 19 columns]"
            ]
          },
          "metadata": {
            "tags": []
          },
          "execution_count": 47
        }
      ]
    },
    {
      "cell_type": "code",
      "metadata": {
        "id": "Bmfsh3Fw5tHU",
        "outputId": "16ff3cd4-42d8-4e77-cc93-486aca5b5f75",
        "colab": {
          "base_uri": "https://localhost:8080/",
          "height": 413
        }
      },
      "source": [
        "forecast[['ds', 'yhat', 'yhat_lower', 'yhat_upper', 'trend', 'trend_lower', 'trend_upper']]"
      ],
      "execution_count": 48,
      "outputs": [
        {
          "output_type": "execute_result",
          "data": {
            "text/html": [
              "<div>\n",
              "<style scoped>\n",
              "    .dataframe tbody tr th:only-of-type {\n",
              "        vertical-align: middle;\n",
              "    }\n",
              "\n",
              "    .dataframe tbody tr th {\n",
              "        vertical-align: top;\n",
              "    }\n",
              "\n",
              "    .dataframe thead th {\n",
              "        text-align: right;\n",
              "    }\n",
              "</style>\n",
              "<table border=\"1\" class=\"dataframe\">\n",
              "  <thead>\n",
              "    <tr style=\"text-align: right;\">\n",
              "      <th></th>\n",
              "      <th>ds</th>\n",
              "      <th>yhat</th>\n",
              "      <th>yhat_lower</th>\n",
              "      <th>yhat_upper</th>\n",
              "      <th>trend</th>\n",
              "      <th>trend_lower</th>\n",
              "      <th>trend_upper</th>\n",
              "    </tr>\n",
              "  </thead>\n",
              "  <tbody>\n",
              "    <tr>\n",
              "      <th>0</th>\n",
              "      <td>2006-12-16</td>\n",
              "      <td>2427.674430</td>\n",
              "      <td>1872.964833</td>\n",
              "      <td>2979.586088</td>\n",
              "      <td>1651.870476</td>\n",
              "      <td>1651.870476</td>\n",
              "      <td>1651.870476</td>\n",
              "    </tr>\n",
              "    <tr>\n",
              "      <th>1</th>\n",
              "      <td>2006-12-17</td>\n",
              "      <td>2424.307336</td>\n",
              "      <td>1886.330749</td>\n",
              "      <td>2989.969122</td>\n",
              "      <td>1651.695654</td>\n",
              "      <td>1651.695654</td>\n",
              "      <td>1651.695654</td>\n",
              "    </tr>\n",
              "    <tr>\n",
              "      <th>2</th>\n",
              "      <td>2006-12-18</td>\n",
              "      <td>2049.400122</td>\n",
              "      <td>1485.820433</td>\n",
              "      <td>2627.577242</td>\n",
              "      <td>1651.520833</td>\n",
              "      <td>1651.520833</td>\n",
              "      <td>1651.520833</td>\n",
              "    </tr>\n",
              "    <tr>\n",
              "      <th>3</th>\n",
              "      <td>2006-12-19</td>\n",
              "      <td>2196.428047</td>\n",
              "      <td>1677.176336</td>\n",
              "      <td>2757.881224</td>\n",
              "      <td>1651.346012</td>\n",
              "      <td>1651.346012</td>\n",
              "      <td>1651.346012</td>\n",
              "    </tr>\n",
              "    <tr>\n",
              "      <th>4</th>\n",
              "      <td>2006-12-20</td>\n",
              "      <td>2216.099502</td>\n",
              "      <td>1650.886213</td>\n",
              "      <td>2767.764219</td>\n",
              "      <td>1651.171190</td>\n",
              "      <td>1651.171190</td>\n",
              "      <td>1651.171190</td>\n",
              "    </tr>\n",
              "    <tr>\n",
              "      <th>...</th>\n",
              "      <td>...</td>\n",
              "      <td>...</td>\n",
              "      <td>...</td>\n",
              "      <td>...</td>\n",
              "      <td>...</td>\n",
              "      <td>...</td>\n",
              "      <td>...</td>\n",
              "    </tr>\n",
              "    <tr>\n",
              "      <th>1437</th>\n",
              "      <td>2010-11-22</td>\n",
              "      <td>2040.151795</td>\n",
              "      <td>1489.454360</td>\n",
              "      <td>2632.366567</td>\n",
              "      <td>1632.211137</td>\n",
              "      <td>1619.933222</td>\n",
              "      <td>1644.590271</td>\n",
              "    </tr>\n",
              "    <tr>\n",
              "      <th>1438</th>\n",
              "      <td>2010-11-23</td>\n",
              "      <td>2182.312497</td>\n",
              "      <td>1633.781107</td>\n",
              "      <td>2716.688432</td>\n",
              "      <td>1632.346982</td>\n",
              "      <td>1619.983795</td>\n",
              "      <td>1644.760269</td>\n",
              "    </tr>\n",
              "    <tr>\n",
              "      <th>1439</th>\n",
              "      <td>2010-11-24</td>\n",
              "      <td>2193.411479</td>\n",
              "      <td>1652.439825</td>\n",
              "      <td>2749.424500</td>\n",
              "      <td>1632.482827</td>\n",
              "      <td>1620.034368</td>\n",
              "      <td>1644.930267</td>\n",
              "    </tr>\n",
              "    <tr>\n",
              "      <th>1440</th>\n",
              "      <td>2010-11-25</td>\n",
              "      <td>2026.197054</td>\n",
              "      <td>1467.593546</td>\n",
              "      <td>2608.604269</td>\n",
              "      <td>1632.618672</td>\n",
              "      <td>1620.084942</td>\n",
              "      <td>1645.100266</td>\n",
              "    </tr>\n",
              "    <tr>\n",
              "      <th>1441</th>\n",
              "      <td>2010-11-26</td>\n",
              "      <td>2156.500936</td>\n",
              "      <td>1590.921329</td>\n",
              "      <td>2710.821769</td>\n",
              "      <td>1632.754517</td>\n",
              "      <td>1620.139429</td>\n",
              "      <td>1645.275598</td>\n",
              "    </tr>\n",
              "  </tbody>\n",
              "</table>\n",
              "<p>1442 rows × 7 columns</p>\n",
              "</div>"
            ],
            "text/plain": [
              "             ds         yhat  ...  trend_lower  trend_upper\n",
              "0    2006-12-16  2427.674430  ...  1651.870476  1651.870476\n",
              "1    2006-12-17  2424.307336  ...  1651.695654  1651.695654\n",
              "2    2006-12-18  2049.400122  ...  1651.520833  1651.520833\n",
              "3    2006-12-19  2196.428047  ...  1651.346012  1651.346012\n",
              "4    2006-12-20  2216.099502  ...  1651.171190  1651.171190\n",
              "...         ...          ...  ...          ...          ...\n",
              "1437 2010-11-22  2040.151795  ...  1619.933222  1644.590271\n",
              "1438 2010-11-23  2182.312497  ...  1619.983795  1644.760269\n",
              "1439 2010-11-24  2193.411479  ...  1620.034368  1644.930267\n",
              "1440 2010-11-25  2026.197054  ...  1620.084942  1645.100266\n",
              "1441 2010-11-26  2156.500936  ...  1620.139429  1645.275598\n",
              "\n",
              "[1442 rows x 7 columns]"
            ]
          },
          "metadata": {
            "tags": []
          },
          "execution_count": 48
        }
      ]
    },
    {
      "cell_type": "code",
      "metadata": {
        "id": "FVvqVjYr1Fk0"
      },
      "source": [
        "def mape(y_true, y_pred):\n",
        "  y_true, y_pred = np.array(y_true), np.array(y_pred)\n",
        "  return np.mean(np.abs((y_true-y_pred)/y_true))*100"
      ],
      "execution_count": 49,
      "outputs": []
    },
    {
      "cell_type": "code",
      "metadata": {
        "id": "rRtagzQ6157a"
      },
      "source": [
        "test_val = data['y'] \n",
        "pred_val = forecast['yhat'][-365:] "
      ],
      "execution_count": 51,
      "outputs": []
    },
    {
      "cell_type": "code",
      "metadata": {
        "id": "OMwRlP3-2O6U",
        "outputId": "a1231506-8d64-433c-99a5-129dec250e06",
        "colab": {
          "base_uri": "https://localhost:8080/",
          "height": 34
        }
      },
      "source": [
        "prediction = mape(test_val, pred_val)\n",
        "print('MAPE prediction: ', round(prediction, 2)) "
      ],
      "execution_count": 52,
      "outputs": [
        {
          "output_type": "stream",
          "text": [
            "MAPE prediction:  20.9\n"
          ],
          "name": "stdout"
        }
      ]
    },
    {
      "cell_type": "code",
      "metadata": {
        "id": "FcJoyE4R2xlf",
        "outputId": "2e6f7976-1704-4a75-ad8b-6dd8da575a66",
        "colab": {
          "base_uri": "https://localhost:8080/",
          "height": 34
        }
      },
      "source": [
        "from sklearn.metrics import mean_squared_error\n",
        "pred_mse = mean_squared_error(test_val, pred_val)\n",
        "pred_rmse = np.sqrt(pred_mse)\n",
        "print('RMSE prediction: ', round(pred_rmse, 2))"
      ],
      "execution_count": 53,
      "outputs": [
        {
          "output_type": "stream",
          "text": [
            "RMSE prediction:  375.04\n"
          ],
          "name": "stdout"
        }
      ]
    },
    {
      "cell_type": "code",
      "metadata": {
        "id": "c_m8I_gz3x6t"
      },
      "source": [
        "def rmse(y_true, y_pred):\n",
        "   y_true, y_pred = np.array(y_true), np.array(y_pred)\n",
        "   return np.sqrt(np.mean(np.square(y_true-y_pred)))"
      ],
      "execution_count": 54,
      "outputs": []
    },
    {
      "cell_type": "code",
      "metadata": {
        "id": "vuEEj53L4Iva",
        "outputId": "a316e78a-72b1-4e84-a8cb-f950053c4062",
        "colab": {
          "base_uri": "https://localhost:8080/",
          "height": 34
        }
      },
      "source": [
        "new_pred_rmse = rmse(test_val, pred_val)\n",
        "round(new_pred_rmse, 2) "
      ],
      "execution_count": 55,
      "outputs": [
        {
          "output_type": "execute_result",
          "data": {
            "text/plain": [
              "375.04"
            ]
          },
          "metadata": {
            "tags": []
          },
          "execution_count": 55
        }
      ]
    },
    {
      "cell_type": "code",
      "metadata": {
        "id": "FW2aUUHsApHa",
        "outputId": "b5631b97-3f29-4555-c7f2-1861f4b79e18",
        "colab": {
          "base_uri": "https://localhost:8080/",
          "height": 657
        }
      },
      "source": [
        "model.plot_components(forecast)\n",
        "plt.show()"
      ],
      "execution_count": 56,
      "outputs": [
        {
          "output_type": "display_data",
          "data": {
            "image/png": "[encoded data removed]",
            "text/plain": [
              "<Figure size 648x648 with 3 Axes>"
            ]
          },
          "metadata": {
            "tags": []
          }
        }
      ]
    },
    {
      "cell_type": "code",
      "metadata": {
        "id": "pqqMkJiiMjw3",
        "outputId": "15d2564b-ddd7-44e5-ea7e-d0dc3f695a85",
        "colab": {
          "base_uri": "https://localhost:8080/",
          "height": 201
        }
      },
      "source": [
        "new_df_daily2 = new_df_daily.reset_index()\n",
        "new_df_daily2.head()"
      ],
      "execution_count": 58,
      "outputs": [
        {
          "output_type": "execute_result",
          "data": {
            "text/html": [
              "<div>\n",
              "<style scoped>\n",
              "    .dataframe tbody tr th:only-of-type {\n",
              "        vertical-align: middle;\n",
              "    }\n",
              "\n",
              "    .dataframe tbody tr th {\n",
              "        vertical-align: top;\n",
              "    }\n",
              "\n",
              "    .dataframe thead th {\n",
              "        text-align: right;\n",
              "    }\n",
              "</style>\n",
              "<table border=\"1\" class=\"dataframe\">\n",
              "  <thead>\n",
              "    <tr style=\"text-align: right;\">\n",
              "      <th></th>\n",
              "      <th>datetime</th>\n",
              "      <th>Global_active_power</th>\n",
              "      <th>Global_reactive_power</th>\n",
              "      <th>Voltage</th>\n",
              "      <th>Global_intensity</th>\n",
              "      <th>Sub_metering_1</th>\n",
              "      <th>Sub_metering_2</th>\n",
              "      <th>Sub_metering_3</th>\n",
              "    </tr>\n",
              "  </thead>\n",
              "  <tbody>\n",
              "    <tr>\n",
              "      <th>0</th>\n",
              "      <td>2006-12-16</td>\n",
              "      <td>1209.176</td>\n",
              "      <td>34.922</td>\n",
              "      <td>93552.53</td>\n",
              "      <td>5180.8</td>\n",
              "      <td>0.0</td>\n",
              "      <td>546.0</td>\n",
              "      <td>4926.0</td>\n",
              "    </tr>\n",
              "    <tr>\n",
              "      <th>1</th>\n",
              "      <td>2006-12-17</td>\n",
              "      <td>3390.460</td>\n",
              "      <td>226.006</td>\n",
              "      <td>345725.32</td>\n",
              "      <td>14398.6</td>\n",
              "      <td>2033.0</td>\n",
              "      <td>4187.0</td>\n",
              "      <td>13341.0</td>\n",
              "    </tr>\n",
              "    <tr>\n",
              "      <th>2</th>\n",
              "      <td>2006-12-18</td>\n",
              "      <td>2203.826</td>\n",
              "      <td>161.792</td>\n",
              "      <td>347373.64</td>\n",
              "      <td>9247.2</td>\n",
              "      <td>1063.0</td>\n",
              "      <td>2621.0</td>\n",
              "      <td>14018.0</td>\n",
              "    </tr>\n",
              "    <tr>\n",
              "      <th>3</th>\n",
              "      <td>2006-12-19</td>\n",
              "      <td>1666.194</td>\n",
              "      <td>150.942</td>\n",
              "      <td>348479.01</td>\n",
              "      <td>7094.0</td>\n",
              "      <td>839.0</td>\n",
              "      <td>7602.0</td>\n",
              "      <td>6197.0</td>\n",
              "    </tr>\n",
              "    <tr>\n",
              "      <th>4</th>\n",
              "      <td>2006-12-20</td>\n",
              "      <td>2225.748</td>\n",
              "      <td>160.998</td>\n",
              "      <td>348923.61</td>\n",
              "      <td>9313.0</td>\n",
              "      <td>0.0</td>\n",
              "      <td>2648.0</td>\n",
              "      <td>14063.0</td>\n",
              "    </tr>\n",
              "  </tbody>\n",
              "</table>\n",
              "</div>"
            ],
            "text/plain": [
              "    datetime  Global_active_power  ...  Sub_metering_2  Sub_metering_3\n",
              "0 2006-12-16             1209.176  ...           546.0          4926.0\n",
              "1 2006-12-17             3390.460  ...          4187.0         13341.0\n",
              "2 2006-12-18             2203.826  ...          2621.0         14018.0\n",
              "3 2006-12-19             1666.194  ...          7602.0          6197.0\n",
              "4 2006-12-20             2225.748  ...          2648.0         14063.0\n",
              "\n",
              "[5 rows x 8 columns]"
            ]
          },
          "metadata": {
            "tags": []
          },
          "execution_count": 58
        }
      ]
    },
    {
      "cell_type": "code",
      "metadata": {
        "id": "OHY4nO-MOnE6",
        "outputId": "0e421a78-9a5e-4f5f-ba7a-3dd3ac93473f",
        "colab": {
          "base_uri": "https://localhost:8080/",
          "height": 218
        }
      },
      "source": [
        "new_df_daily2 = new_df_daily2.rename(columns={'datetime':'ds', 'Global_active_power':'y', 'Global_reactive_power':'add1', 'Voltage':'add2', 'Global_intensity':'add3', 'Sub_metering_1':'add4', 'Sub_metering_2':'add5', 'Sub_metering_3':'add6'})\n",
        "print(new_df_daily2.shape)\n",
        "new_df_daily2.head()"
      ],
      "execution_count": 62,
      "outputs": [
        {
          "output_type": "stream",
          "text": [
            "(1442, 8)\n"
          ],
          "name": "stdout"
        },
        {
          "output_type": "execute_result",
          "data": {
            "text/html": [
              "<div>\n",
              "<style scoped>\n",
              "    .dataframe tbody tr th:only-of-type {\n",
              "        vertical-align: middle;\n",
              "    }\n",
              "\n",
              "    .dataframe tbody tr th {\n",
              "        vertical-align: top;\n",
              "    }\n",
              "\n",
              "    .dataframe thead th {\n",
              "        text-align: right;\n",
              "    }\n",
              "</style>\n",
              "<table border=\"1\" class=\"dataframe\">\n",
              "  <thead>\n",
              "    <tr style=\"text-align: right;\">\n",
              "      <th></th>\n",
              "      <th>ds</th>\n",
              "      <th>y</th>\n",
              "      <th>add1</th>\n",
              "      <th>add2</th>\n",
              "      <th>add3</th>\n",
              "      <th>add4</th>\n",
              "      <th>add5</th>\n",
              "      <th>add6</th>\n",
              "    </tr>\n",
              "  </thead>\n",
              "  <tbody>\n",
              "    <tr>\n",
              "      <th>0</th>\n",
              "      <td>2006-12-16</td>\n",
              "      <td>1209.176</td>\n",
              "      <td>34.922</td>\n",
              "      <td>93552.53</td>\n",
              "      <td>5180.8</td>\n",
              "      <td>0.0</td>\n",
              "      <td>546.0</td>\n",
              "      <td>4926.0</td>\n",
              "    </tr>\n",
              "    <tr>\n",
              "      <th>1</th>\n",
              "      <td>2006-12-17</td>\n",
              "      <td>3390.460</td>\n",
              "      <td>226.006</td>\n",
              "      <td>345725.32</td>\n",
              "      <td>14398.6</td>\n",
              "      <td>2033.0</td>\n",
              "      <td>4187.0</td>\n",
              "      <td>13341.0</td>\n",
              "    </tr>\n",
              "    <tr>\n",
              "      <th>2</th>\n",
              "      <td>2006-12-18</td>\n",
              "      <td>2203.826</td>\n",
              "      <td>161.792</td>\n",
              "      <td>347373.64</td>\n",
              "      <td>9247.2</td>\n",
              "      <td>1063.0</td>\n",
              "      <td>2621.0</td>\n",
              "      <td>14018.0</td>\n",
              "    </tr>\n",
              "    <tr>\n",
              "      <th>3</th>\n",
              "      <td>2006-12-19</td>\n",
              "      <td>1666.194</td>\n",
              "      <td>150.942</td>\n",
              "      <td>348479.01</td>\n",
              "      <td>7094.0</td>\n",
              "      <td>839.0</td>\n",
              "      <td>7602.0</td>\n",
              "      <td>6197.0</td>\n",
              "    </tr>\n",
              "    <tr>\n",
              "      <th>4</th>\n",
              "      <td>2006-12-20</td>\n",
              "      <td>2225.748</td>\n",
              "      <td>160.998</td>\n",
              "      <td>348923.61</td>\n",
              "      <td>9313.0</td>\n",
              "      <td>0.0</td>\n",
              "      <td>2648.0</td>\n",
              "      <td>14063.0</td>\n",
              "    </tr>\n",
              "  </tbody>\n",
              "</table>\n",
              "</div>"
            ],
            "text/plain": [
              "          ds         y     add1       add2     add3    add4    add5     add6\n",
              "0 2006-12-16  1209.176   34.922   93552.53   5180.8     0.0   546.0   4926.0\n",
              "1 2006-12-17  3390.460  226.006  345725.32  14398.6  2033.0  4187.0  13341.0\n",
              "2 2006-12-18  2203.826  161.792  347373.64   9247.2  1063.0  2621.0  14018.0\n",
              "3 2006-12-19  1666.194  150.942  348479.01   7094.0   839.0  7602.0   6197.0\n",
              "4 2006-12-20  2225.748  160.998  348923.61   9313.0     0.0  2648.0  14063.0"
            ]
          },
          "metadata": {
            "tags": []
          },
          "execution_count": 62
        }
      ]
    },
    {
      "cell_type": "code",
      "metadata": {
        "id": "ZPf9XLPjO8pZ",
        "outputId": "f41d80c5-c322-4517-935c-af3266b5ec68",
        "colab": {
          "base_uri": "https://localhost:8080/",
          "height": 218
        }
      },
      "source": [
        "test2 = new_df_daily2[-365:]\n",
        "print(test2.shape)\n",
        "test2.head()"
      ],
      "execution_count": 65,
      "outputs": [
        {
          "output_type": "stream",
          "text": [
            "(365, 8)\n"
          ],
          "name": "stdout"
        },
        {
          "output_type": "execute_result",
          "data": {
            "text/html": [
              "<div>\n",
              "<style scoped>\n",
              "    .dataframe tbody tr th:only-of-type {\n",
              "        vertical-align: middle;\n",
              "    }\n",
              "\n",
              "    .dataframe tbody tr th {\n",
              "        vertical-align: top;\n",
              "    }\n",
              "\n",
              "    .dataframe thead th {\n",
              "        text-align: right;\n",
              "    }\n",
              "</style>\n",
              "<table border=\"1\" class=\"dataframe\">\n",
              "  <thead>\n",
              "    <tr style=\"text-align: right;\">\n",
              "      <th></th>\n",
              "      <th>ds</th>\n",
              "      <th>y</th>\n",
              "      <th>add1</th>\n",
              "      <th>add2</th>\n",
              "      <th>add3</th>\n",
              "      <th>add4</th>\n",
              "      <th>add5</th>\n",
              "      <th>add6</th>\n",
              "    </tr>\n",
              "  </thead>\n",
              "  <tbody>\n",
              "    <tr>\n",
              "      <th>1077</th>\n",
              "      <td>2009-11-27</td>\n",
              "      <td>1380.026</td>\n",
              "      <td>133.052</td>\n",
              "      <td>348276.70</td>\n",
              "      <td>5704.0</td>\n",
              "      <td>0.0</td>\n",
              "      <td>396.0</td>\n",
              "      <td>11599.0</td>\n",
              "    </tr>\n",
              "    <tr>\n",
              "      <th>1078</th>\n",
              "      <td>2009-11-28</td>\n",
              "      <td>1858.950</td>\n",
              "      <td>225.218</td>\n",
              "      <td>347898.89</td>\n",
              "      <td>7784.8</td>\n",
              "      <td>3199.0</td>\n",
              "      <td>386.0</td>\n",
              "      <td>14350.0</td>\n",
              "    </tr>\n",
              "    <tr>\n",
              "      <th>1079</th>\n",
              "      <td>2009-11-29</td>\n",
              "      <td>1650.962</td>\n",
              "      <td>191.056</td>\n",
              "      <td>350364.56</td>\n",
              "      <td>6878.4</td>\n",
              "      <td>1073.0</td>\n",
              "      <td>3061.0</td>\n",
              "      <td>7828.0</td>\n",
              "    </tr>\n",
              "    <tr>\n",
              "      <th>1080</th>\n",
              "      <td>2009-11-30</td>\n",
              "      <td>1745.190</td>\n",
              "      <td>153.382</td>\n",
              "      <td>351020.60</td>\n",
              "      <td>7232.2</td>\n",
              "      <td>1080.0</td>\n",
              "      <td>361.0</td>\n",
              "      <td>12039.0</td>\n",
              "    </tr>\n",
              "    <tr>\n",
              "      <th>1081</th>\n",
              "      <td>2009-12-01</td>\n",
              "      <td>1756.378</td>\n",
              "      <td>141.874</td>\n",
              "      <td>349391.74</td>\n",
              "      <td>7312.8</td>\n",
              "      <td>0.0</td>\n",
              "      <td>354.0</td>\n",
              "      <td>10821.0</td>\n",
              "    </tr>\n",
              "  </tbody>\n",
              "</table>\n",
              "</div>"
            ],
            "text/plain": [
              "             ds         y     add1       add2    add3    add4    add5     add6\n",
              "1077 2009-11-27  1380.026  133.052  348276.70  5704.0     0.0   396.0  11599.0\n",
              "1078 2009-11-28  1858.950  225.218  347898.89  7784.8  3199.0   386.0  14350.0\n",
              "1079 2009-11-29  1650.962  191.056  350364.56  6878.4  1073.0  3061.0   7828.0\n",
              "1080 2009-11-30  1745.190  153.382  351020.60  7232.2  1080.0   361.0  12039.0\n",
              "1081 2009-12-01  1756.378  141.874  349391.74  7312.8     0.0   354.0  10821.0"
            ]
          },
          "metadata": {
            "tags": []
          },
          "execution_count": 65
        }
      ]
    },
    {
      "cell_type": "code",
      "metadata": {
        "id": "-UmTvNuXPLdY",
        "outputId": "a7ca5f24-ffc2-4e15-d27a-54271be0babb",
        "colab": {
          "base_uri": "https://localhost:8080/",
          "height": 218
        }
      },
      "source": [
        "train2 = new_df_daily2[:-365]\n",
        "print(train2.shape)\n",
        "train2.head()"
      ],
      "execution_count": 67,
      "outputs": [
        {
          "output_type": "stream",
          "text": [
            "(1077, 8)\n"
          ],
          "name": "stdout"
        },
        {
          "output_type": "execute_result",
          "data": {
            "text/html": [
              "<div>\n",
              "<style scoped>\n",
              "    .dataframe tbody tr th:only-of-type {\n",
              "        vertical-align: middle;\n",
              "    }\n",
              "\n",
              "    .dataframe tbody tr th {\n",
              "        vertical-align: top;\n",
              "    }\n",
              "\n",
              "    .dataframe thead th {\n",
              "        text-align: right;\n",
              "    }\n",
              "</style>\n",
              "<table border=\"1\" class=\"dataframe\">\n",
              "  <thead>\n",
              "    <tr style=\"text-align: right;\">\n",
              "      <th></th>\n",
              "      <th>ds</th>\n",
              "      <th>y</th>\n",
              "      <th>add1</th>\n",
              "      <th>add2</th>\n",
              "      <th>add3</th>\n",
              "      <th>add4</th>\n",
              "      <th>add5</th>\n",
              "      <th>add6</th>\n",
              "    </tr>\n",
              "  </thead>\n",
              "  <tbody>\n",
              "    <tr>\n",
              "      <th>0</th>\n",
              "      <td>2006-12-16</td>\n",
              "      <td>1209.176</td>\n",
              "      <td>34.922</td>\n",
              "      <td>93552.53</td>\n",
              "      <td>5180.8</td>\n",
              "      <td>0.0</td>\n",
              "      <td>546.0</td>\n",
              "      <td>4926.0</td>\n",
              "    </tr>\n",
              "    <tr>\n",
              "      <th>1</th>\n",
              "      <td>2006-12-17</td>\n",
              "      <td>3390.460</td>\n",
              "      <td>226.006</td>\n",
              "      <td>345725.32</td>\n",
              "      <td>14398.6</td>\n",
              "      <td>2033.0</td>\n",
              "      <td>4187.0</td>\n",
              "      <td>13341.0</td>\n",
              "    </tr>\n",
              "    <tr>\n",
              "      <th>2</th>\n",
              "      <td>2006-12-18</td>\n",
              "      <td>2203.826</td>\n",
              "      <td>161.792</td>\n",
              "      <td>347373.64</td>\n",
              "      <td>9247.2</td>\n",
              "      <td>1063.0</td>\n",
              "      <td>2621.0</td>\n",
              "      <td>14018.0</td>\n",
              "    </tr>\n",
              "    <tr>\n",
              "      <th>3</th>\n",
              "      <td>2006-12-19</td>\n",
              "      <td>1666.194</td>\n",
              "      <td>150.942</td>\n",
              "      <td>348479.01</td>\n",
              "      <td>7094.0</td>\n",
              "      <td>839.0</td>\n",
              "      <td>7602.0</td>\n",
              "      <td>6197.0</td>\n",
              "    </tr>\n",
              "    <tr>\n",
              "      <th>4</th>\n",
              "      <td>2006-12-20</td>\n",
              "      <td>2225.748</td>\n",
              "      <td>160.998</td>\n",
              "      <td>348923.61</td>\n",
              "      <td>9313.0</td>\n",
              "      <td>0.0</td>\n",
              "      <td>2648.0</td>\n",
              "      <td>14063.0</td>\n",
              "    </tr>\n",
              "  </tbody>\n",
              "</table>\n",
              "</div>"
            ],
            "text/plain": [
              "          ds         y     add1       add2     add3    add4    add5     add6\n",
              "0 2006-12-16  1209.176   34.922   93552.53   5180.8     0.0   546.0   4926.0\n",
              "1 2006-12-17  3390.460  226.006  345725.32  14398.6  2033.0  4187.0  13341.0\n",
              "2 2006-12-18  2203.826  161.792  347373.64   9247.2  1063.0  2621.0  14018.0\n",
              "3 2006-12-19  1666.194  150.942  348479.01   7094.0   839.0  7602.0   6197.0\n",
              "4 2006-12-20  2225.748  160.998  348923.61   9313.0     0.0  2648.0  14063.0"
            ]
          },
          "metadata": {
            "tags": []
          },
          "execution_count": 67
        }
      ]
    },
    {
      "cell_type": "code",
      "metadata": {
        "id": "r0sUhxexjMnf"
      },
      "source": [
        "assert len(train2) == (len(new_df_daily)-365)"
      ],
      "execution_count": 73,
      "outputs": []
    },
    {
      "cell_type": "code",
      "metadata": {
        "id": "IjMKYItyPh-1"
      },
      "source": [
        "model2 = Prophet()"
      ],
      "execution_count": 74,
      "outputs": []
    },
    {
      "cell_type": "code",
      "metadata": {
        "id": "Bqcq7i0fQSoT",
        "outputId": "8203176a-1360-4164-829f-ec77a0c9be11",
        "colab": {
          "base_uri": "https://localhost:8080/",
          "height": 51
        }
      },
      "source": [
        "model2.add_regressor('add1')\n",
        "model2.add_regressor('add2')\n",
        "model2.add_regressor('add3')\n",
        "model2.add_regressor('add4')\n",
        "model2.add_regressor('add5')\n",
        "model2.add_regressor('add6')\n",
        "model2.fit(train2)"
      ],
      "execution_count": 75,
      "outputs": [
        {
          "output_type": "stream",
          "text": [
            "INFO:fbprophet:Disabling daily seasonality. Run prophet with daily_seasonality=True to override this.\n"
          ],
          "name": "stderr"
        },
        {
          "output_type": "execute_result",
          "data": {
            "text/plain": [
              "<fbprophet.forecaster.Prophet at 0x7ff8b454aef0>"
            ]
          },
          "metadata": {
            "tags": []
          },
          "execution_count": 75
        }
      ]
    },
    {
      "cell_type": "code",
      "metadata": {
        "id": "SS3PZRwJR_Gn",
        "outputId": "c6a9d83f-128a-42e5-d9d5-ca3a9f7e57e1",
        "colab": {
          "base_uri": "https://localhost:8080/",
          "height": 413
        }
      },
      "source": [
        "future2 = model2.make_future_dataframe(periods=365, freq='D') \n",
        "future2"
      ],
      "execution_count": 77,
      "outputs": [
        {
          "output_type": "execute_result",
          "data": {
            "text/html": [
              "<div>\n",
              "<style scoped>\n",
              "    .dataframe tbody tr th:only-of-type {\n",
              "        vertical-align: middle;\n",
              "    }\n",
              "\n",
              "    .dataframe tbody tr th {\n",
              "        vertical-align: top;\n",
              "    }\n",
              "\n",
              "    .dataframe thead th {\n",
              "        text-align: right;\n",
              "    }\n",
              "</style>\n",
              "<table border=\"1\" class=\"dataframe\">\n",
              "  <thead>\n",
              "    <tr style=\"text-align: right;\">\n",
              "      <th></th>\n",
              "      <th>ds</th>\n",
              "    </tr>\n",
              "  </thead>\n",
              "  <tbody>\n",
              "    <tr>\n",
              "      <th>0</th>\n",
              "      <td>2006-12-16</td>\n",
              "    </tr>\n",
              "    <tr>\n",
              "      <th>1</th>\n",
              "      <td>2006-12-17</td>\n",
              "    </tr>\n",
              "    <tr>\n",
              "      <th>2</th>\n",
              "      <td>2006-12-18</td>\n",
              "    </tr>\n",
              "    <tr>\n",
              "      <th>3</th>\n",
              "      <td>2006-12-19</td>\n",
              "    </tr>\n",
              "    <tr>\n",
              "      <th>4</th>\n",
              "      <td>2006-12-20</td>\n",
              "    </tr>\n",
              "    <tr>\n",
              "      <th>...</th>\n",
              "      <td>...</td>\n",
              "    </tr>\n",
              "    <tr>\n",
              "      <th>1437</th>\n",
              "      <td>2010-11-22</td>\n",
              "    </tr>\n",
              "    <tr>\n",
              "      <th>1438</th>\n",
              "      <td>2010-11-23</td>\n",
              "    </tr>\n",
              "    <tr>\n",
              "      <th>1439</th>\n",
              "      <td>2010-11-24</td>\n",
              "    </tr>\n",
              "    <tr>\n",
              "      <th>1440</th>\n",
              "      <td>2010-11-25</td>\n",
              "    </tr>\n",
              "    <tr>\n",
              "      <th>1441</th>\n",
              "      <td>2010-11-26</td>\n",
              "    </tr>\n",
              "  </tbody>\n",
              "</table>\n",
              "<p>1442 rows × 1 columns</p>\n",
              "</div>"
            ],
            "text/plain": [
              "             ds\n",
              "0    2006-12-16\n",
              "1    2006-12-17\n",
              "2    2006-12-18\n",
              "3    2006-12-19\n",
              "4    2006-12-20\n",
              "...         ...\n",
              "1437 2010-11-22\n",
              "1438 2010-11-23\n",
              "1439 2010-11-24\n",
              "1440 2010-11-25\n",
              "1441 2010-11-26\n",
              "\n",
              "[1442 rows x 1 columns]"
            ]
          },
          "metadata": {
            "tags": []
          },
          "execution_count": 77
        }
      ]
    },
    {
      "cell_type": "code",
      "metadata": {
        "id": "yCAr2yQuS9cJ"
      },
      "source": [
        "future2['add1'] = new_df_daily2['add1']\n",
        "future2['add2'] = new_df_daily2['add2']\n",
        "future2['add3'] = new_df_daily2['add3']\n",
        "future2['add4'] = new_df_daily2['add4']\n",
        "future2['add5'] = new_df_daily2['add5']\n",
        "future2['add6'] = new_df_daily2['add6']"
      ],
      "execution_count": 79,
      "outputs": []
    },
    {
      "cell_type": "code",
      "metadata": {
        "id": "9HSGBm1eShh-",
        "outputId": "d736d426-9691-433b-e41d-c556ce60e0f6",
        "colab": {
          "base_uri": "https://localhost:8080/",
          "height": 307
        }
      },
      "source": [
        "forecast2 = model2.predict(future2) \n",
        "forecast2.head()"
      ],
      "execution_count": 80,
      "outputs": [
        {
          "output_type": "execute_result",
          "data": {
            "text/html": [
              "<div>\n",
              "<style scoped>\n",
              "    .dataframe tbody tr th:only-of-type {\n",
              "        vertical-align: middle;\n",
              "    }\n",
              "\n",
              "    .dataframe tbody tr th {\n",
              "        vertical-align: top;\n",
              "    }\n",
              "\n",
              "    .dataframe thead th {\n",
              "        text-align: right;\n",
              "    }\n",
              "</style>\n",
              "<table border=\"1\" class=\"dataframe\">\n",
              "  <thead>\n",
              "    <tr style=\"text-align: right;\">\n",
              "      <th></th>\n",
              "      <th>ds</th>\n",
              "      <th>trend</th>\n",
              "      <th>yhat_lower</th>\n",
              "      <th>yhat_upper</th>\n",
              "      <th>trend_lower</th>\n",
              "      <th>trend_upper</th>\n",
              "      <th>add1</th>\n",
              "      <th>add1_lower</th>\n",
              "      <th>add1_upper</th>\n",
              "      <th>add2</th>\n",
              "      <th>add2_lower</th>\n",
              "      <th>add2_upper</th>\n",
              "      <th>add3</th>\n",
              "      <th>add3_lower</th>\n",
              "      <th>add3_upper</th>\n",
              "      <th>add4</th>\n",
              "      <th>add4_lower</th>\n",
              "      <th>add4_upper</th>\n",
              "      <th>add5</th>\n",
              "      <th>add5_lower</th>\n",
              "      <th>add5_upper</th>\n",
              "      <th>add6</th>\n",
              "      <th>add6_lower</th>\n",
              "      <th>add6_upper</th>\n",
              "      <th>additive_terms</th>\n",
              "      <th>additive_terms_lower</th>\n",
              "      <th>additive_terms_upper</th>\n",
              "      <th>extra_regressors_additive</th>\n",
              "      <th>extra_regressors_additive_lower</th>\n",
              "      <th>extra_regressors_additive_upper</th>\n",
              "      <th>weekly</th>\n",
              "      <th>weekly_lower</th>\n",
              "      <th>weekly_upper</th>\n",
              "      <th>yearly</th>\n",
              "      <th>yearly_lower</th>\n",
              "      <th>yearly_upper</th>\n",
              "      <th>multiplicative_terms</th>\n",
              "      <th>multiplicative_terms_lower</th>\n",
              "      <th>multiplicative_terms_upper</th>\n",
              "      <th>yhat</th>\n",
              "    </tr>\n",
              "  </thead>\n",
              "  <tbody>\n",
              "    <tr>\n",
              "      <th>0</th>\n",
              "      <td>2006-12-16</td>\n",
              "      <td>1566.208205</td>\n",
              "      <td>1158.462956</td>\n",
              "      <td>1190.329597</td>\n",
              "      <td>1566.208205</td>\n",
              "      <td>1566.208205</td>\n",
              "      <td>25.033001</td>\n",
              "      <td>25.033001</td>\n",
              "      <td>25.033001</td>\n",
              "      <td>-72.763302</td>\n",
              "      <td>-72.763302</td>\n",
              "      <td>-72.763302</td>\n",
              "      <td>-356.972861</td>\n",
              "      <td>-356.972861</td>\n",
              "      <td>-356.972861</td>\n",
              "      <td>2.196835</td>\n",
              "      <td>2.196835</td>\n",
              "      <td>2.196835</td>\n",
              "      <td>0.742868</td>\n",
              "      <td>0.742868</td>\n",
              "      <td>0.742868</td>\n",
              "      <td>-5.557483</td>\n",
              "      <td>-5.557483</td>\n",
              "      <td>-5.557483</td>\n",
              "      <td>-391.553789</td>\n",
              "      <td>-391.553789</td>\n",
              "      <td>-391.553789</td>\n",
              "      <td>-407.320943</td>\n",
              "      <td>-407.320943</td>\n",
              "      <td>-407.320943</td>\n",
              "      <td>1.408596</td>\n",
              "      <td>1.408596</td>\n",
              "      <td>1.408596</td>\n",
              "      <td>14.358558</td>\n",
              "      <td>14.358558</td>\n",
              "      <td>14.358558</td>\n",
              "      <td>0.0</td>\n",
              "      <td>0.0</td>\n",
              "      <td>0.0</td>\n",
              "      <td>1174.654416</td>\n",
              "    </tr>\n",
              "    <tr>\n",
              "      <th>1</th>\n",
              "      <td>2006-12-17</td>\n",
              "      <td>1566.143627</td>\n",
              "      <td>3400.187286</td>\n",
              "      <td>3432.603263</td>\n",
              "      <td>1566.143627</td>\n",
              "      <td>1566.143627</td>\n",
              "      <td>-9.027243</td>\n",
              "      <td>-9.027243</td>\n",
              "      <td>-9.027243</td>\n",
              "      <td>-0.120897</td>\n",
              "      <td>-0.120897</td>\n",
              "      <td>-0.120897</td>\n",
              "      <td>1839.073287</td>\n",
              "      <td>1839.073287</td>\n",
              "      <td>1839.073287</td>\n",
              "      <td>-0.484864</td>\n",
              "      <td>-0.484864</td>\n",
              "      <td>-0.484864</td>\n",
              "      <td>-1.170809</td>\n",
              "      <td>-1.170809</td>\n",
              "      <td>-1.170809</td>\n",
              "      <td>6.319667</td>\n",
              "      <td>6.319667</td>\n",
              "      <td>6.319667</td>\n",
              "      <td>1849.806679</td>\n",
              "      <td>1849.806679</td>\n",
              "      <td>1849.806679</td>\n",
              "      <td>1834.589141</td>\n",
              "      <td>1834.589141</td>\n",
              "      <td>1834.589141</td>\n",
              "      <td>0.164156</td>\n",
              "      <td>0.164156</td>\n",
              "      <td>0.164156</td>\n",
              "      <td>15.053382</td>\n",
              "      <td>15.053382</td>\n",
              "      <td>15.053382</td>\n",
              "      <td>0.0</td>\n",
              "      <td>0.0</td>\n",
              "      <td>0.0</td>\n",
              "      <td>3415.950306</td>\n",
              "    </tr>\n",
              "    <tr>\n",
              "      <th>2</th>\n",
              "      <td>2006-12-18</td>\n",
              "      <td>1566.079050</td>\n",
              "      <td>2187.766827</td>\n",
              "      <td>2218.440796</td>\n",
              "      <td>1566.079050</td>\n",
              "      <td>1566.079050</td>\n",
              "      <td>2.418741</td>\n",
              "      <td>2.418741</td>\n",
              "      <td>2.418741</td>\n",
              "      <td>0.353928</td>\n",
              "      <td>0.353928</td>\n",
              "      <td>0.353928</td>\n",
              "      <td>611.805162</td>\n",
              "      <td>611.805162</td>\n",
              "      <td>611.805162</td>\n",
              "      <td>0.794648</td>\n",
              "      <td>0.794648</td>\n",
              "      <td>0.794648</td>\n",
              "      <td>-0.347734</td>\n",
              "      <td>-0.347734</td>\n",
              "      <td>-0.347734</td>\n",
              "      <td>7.275203</td>\n",
              "      <td>7.275203</td>\n",
              "      <td>7.275203</td>\n",
              "      <td>637.648383</td>\n",
              "      <td>637.648383</td>\n",
              "      <td>637.648383</td>\n",
              "      <td>622.299948</td>\n",
              "      <td>622.299948</td>\n",
              "      <td>622.299948</td>\n",
              "      <td>-0.338153</td>\n",
              "      <td>-0.338153</td>\n",
              "      <td>-0.338153</td>\n",
              "      <td>15.686588</td>\n",
              "      <td>15.686588</td>\n",
              "      <td>15.686588</td>\n",
              "      <td>0.0</td>\n",
              "      <td>0.0</td>\n",
              "      <td>0.0</td>\n",
              "      <td>2203.727433</td>\n",
              "    </tr>\n",
              "    <tr>\n",
              "      <th>3</th>\n",
              "      <td>2006-12-19</td>\n",
              "      <td>1566.014473</td>\n",
              "      <td>1662.572094</td>\n",
              "      <td>1694.776862</td>\n",
              "      <td>1566.014473</td>\n",
              "      <td>1566.014473</td>\n",
              "      <td>4.352727</td>\n",
              "      <td>4.352727</td>\n",
              "      <td>4.352727</td>\n",
              "      <td>0.672347</td>\n",
              "      <td>0.672347</td>\n",
              "      <td>0.672347</td>\n",
              "      <td>98.827383</td>\n",
              "      <td>98.827383</td>\n",
              "      <td>98.827383</td>\n",
              "      <td>1.090123</td>\n",
              "      <td>1.090123</td>\n",
              "      <td>1.090123</td>\n",
              "      <td>-2.965703</td>\n",
              "      <td>-2.965703</td>\n",
              "      <td>-2.965703</td>\n",
              "      <td>-3.763561</td>\n",
              "      <td>-3.763561</td>\n",
              "      <td>-3.763561</td>\n",
              "      <td>112.790843</td>\n",
              "      <td>112.790843</td>\n",
              "      <td>112.790843</td>\n",
              "      <td>98.213317</td>\n",
              "      <td>98.213317</td>\n",
              "      <td>98.213317</td>\n",
              "      <td>-1.669783</td>\n",
              "      <td>-1.669783</td>\n",
              "      <td>-1.669783</td>\n",
              "      <td>16.247309</td>\n",
              "      <td>16.247309</td>\n",
              "      <td>16.247309</td>\n",
              "      <td>0.0</td>\n",
              "      <td>0.0</td>\n",
              "      <td>0.0</td>\n",
              "      <td>1678.805316</td>\n",
              "    </tr>\n",
              "    <tr>\n",
              "      <th>4</th>\n",
              "      <td>2006-12-20</td>\n",
              "      <td>1565.949895</td>\n",
              "      <td>2209.737802</td>\n",
              "      <td>2239.964932</td>\n",
              "      <td>1565.949895</td>\n",
              "      <td>1565.949895</td>\n",
              "      <td>2.560270</td>\n",
              "      <td>2.560270</td>\n",
              "      <td>2.560270</td>\n",
              "      <td>0.800421</td>\n",
              "      <td>0.800421</td>\n",
              "      <td>0.800421</td>\n",
              "      <td>627.481336</td>\n",
              "      <td>627.481336</td>\n",
              "      <td>627.481336</td>\n",
              "      <td>2.196835</td>\n",
              "      <td>2.196835</td>\n",
              "      <td>2.196835</td>\n",
              "      <td>-0.361925</td>\n",
              "      <td>-0.361925</td>\n",
              "      <td>-0.361925</td>\n",
              "      <td>7.338717</td>\n",
              "      <td>7.338717</td>\n",
              "      <td>7.338717</td>\n",
              "      <td>657.843016</td>\n",
              "      <td>657.843016</td>\n",
              "      <td>657.843016</td>\n",
              "      <td>640.015654</td>\n",
              "      <td>640.015654</td>\n",
              "      <td>640.015654</td>\n",
              "      <td>1.101892</td>\n",
              "      <td>1.101892</td>\n",
              "      <td>1.101892</td>\n",
              "      <td>16.725469</td>\n",
              "      <td>16.725469</td>\n",
              "      <td>16.725469</td>\n",
              "      <td>0.0</td>\n",
              "      <td>0.0</td>\n",
              "      <td>0.0</td>\n",
              "      <td>2223.792911</td>\n",
              "    </tr>\n",
              "  </tbody>\n",
              "</table>\n",
              "</div>"
            ],
            "text/plain": [
              "          ds        trend  ...  multiplicative_terms_upper         yhat\n",
              "0 2006-12-16  1566.208205  ...                         0.0  1174.654416\n",
              "1 2006-12-17  1566.143627  ...                         0.0  3415.950306\n",
              "2 2006-12-18  1566.079050  ...                         0.0  2203.727433\n",
              "3 2006-12-19  1566.014473  ...                         0.0  1678.805316\n",
              "4 2006-12-20  1565.949895  ...                         0.0  2223.792911\n",
              "\n",
              "[5 rows x 40 columns]"
            ]
          },
          "metadata": {
            "tags": []
          },
          "execution_count": 80
        }
      ]
    },
    {
      "cell_type": "code",
      "metadata": {
        "id": "HO9YjNvtSbDF",
        "outputId": "aba16566-2b0b-4664-bce3-35d80d6621ab",
        "colab": {
          "base_uri": "https://localhost:8080/",
          "height": 413
        }
      },
      "source": [
        "forecast2[['ds', 'yhat', 'yhat_lower', 'yhat_upper', 'trend', 'trend_lower', 'trend_upper']]"
      ],
      "execution_count": 81,
      "outputs": [
        {
          "output_type": "execute_result",
          "data": {
            "text/html": [
              "<div>\n",
              "<style scoped>\n",
              "    .dataframe tbody tr th:only-of-type {\n",
              "        vertical-align: middle;\n",
              "    }\n",
              "\n",
              "    .dataframe tbody tr th {\n",
              "        vertical-align: top;\n",
              "    }\n",
              "\n",
              "    .dataframe thead th {\n",
              "        text-align: right;\n",
              "    }\n",
              "</style>\n",
              "<table border=\"1\" class=\"dataframe\">\n",
              "  <thead>\n",
              "    <tr style=\"text-align: right;\">\n",
              "      <th></th>\n",
              "      <th>ds</th>\n",
              "      <th>yhat</th>\n",
              "      <th>yhat_lower</th>\n",
              "      <th>yhat_upper</th>\n",
              "      <th>trend</th>\n",
              "      <th>trend_lower</th>\n",
              "      <th>trend_upper</th>\n",
              "    </tr>\n",
              "  </thead>\n",
              "  <tbody>\n",
              "    <tr>\n",
              "      <th>0</th>\n",
              "      <td>2006-12-16</td>\n",
              "      <td>1174.654416</td>\n",
              "      <td>1158.462956</td>\n",
              "      <td>1190.329597</td>\n",
              "      <td>1566.208205</td>\n",
              "      <td>1566.208205</td>\n",
              "      <td>1566.208205</td>\n",
              "    </tr>\n",
              "    <tr>\n",
              "      <th>1</th>\n",
              "      <td>2006-12-17</td>\n",
              "      <td>3415.950306</td>\n",
              "      <td>3400.187286</td>\n",
              "      <td>3432.603263</td>\n",
              "      <td>1566.143627</td>\n",
              "      <td>1566.143627</td>\n",
              "      <td>1566.143627</td>\n",
              "    </tr>\n",
              "    <tr>\n",
              "      <th>2</th>\n",
              "      <td>2006-12-18</td>\n",
              "      <td>2203.727433</td>\n",
              "      <td>2187.766827</td>\n",
              "      <td>2218.440796</td>\n",
              "      <td>1566.079050</td>\n",
              "      <td>1566.079050</td>\n",
              "      <td>1566.079050</td>\n",
              "    </tr>\n",
              "    <tr>\n",
              "      <th>3</th>\n",
              "      <td>2006-12-19</td>\n",
              "      <td>1678.805316</td>\n",
              "      <td>1662.572094</td>\n",
              "      <td>1694.776862</td>\n",
              "      <td>1566.014473</td>\n",
              "      <td>1566.014473</td>\n",
              "      <td>1566.014473</td>\n",
              "    </tr>\n",
              "    <tr>\n",
              "      <th>4</th>\n",
              "      <td>2006-12-20</td>\n",
              "      <td>2223.792911</td>\n",
              "      <td>2209.737802</td>\n",
              "      <td>2239.964932</td>\n",
              "      <td>1565.949895</td>\n",
              "      <td>1565.949895</td>\n",
              "      <td>1565.949895</td>\n",
              "    </tr>\n",
              "    <tr>\n",
              "      <th>...</th>\n",
              "      <td>...</td>\n",
              "      <td>...</td>\n",
              "      <td>...</td>\n",
              "      <td>...</td>\n",
              "      <td>...</td>\n",
              "      <td>...</td>\n",
              "      <td>...</td>\n",
              "    </tr>\n",
              "    <tr>\n",
              "      <th>1437</th>\n",
              "      <td>2010-11-22</td>\n",
              "      <td>2119.118426</td>\n",
              "      <td>1848.009402</td>\n",
              "      <td>2418.373112</td>\n",
              "      <td>1643.329613</td>\n",
              "      <td>1373.792449</td>\n",
              "      <td>1942.374614</td>\n",
              "    </tr>\n",
              "    <tr>\n",
              "      <th>1438</th>\n",
              "      <td>2010-11-23</td>\n",
              "      <td>1660.812690</td>\n",
              "      <td>1383.485278</td>\n",
              "      <td>1960.857960</td>\n",
              "      <td>1643.459900</td>\n",
              "      <td>1372.926630</td>\n",
              "      <td>1943.885327</td>\n",
              "    </tr>\n",
              "    <tr>\n",
              "      <th>1439</th>\n",
              "      <td>2010-11-24</td>\n",
              "      <td>1868.206808</td>\n",
              "      <td>1592.325724</td>\n",
              "      <td>2168.888699</td>\n",
              "      <td>1643.590188</td>\n",
              "      <td>1371.310258</td>\n",
              "      <td>1945.388441</td>\n",
              "    </tr>\n",
              "    <tr>\n",
              "      <th>1440</th>\n",
              "      <td>2010-11-25</td>\n",
              "      <td>1491.116158</td>\n",
              "      <td>1214.284098</td>\n",
              "      <td>1791.834877</td>\n",
              "      <td>1643.720475</td>\n",
              "      <td>1369.531215</td>\n",
              "      <td>1946.356576</td>\n",
              "    </tr>\n",
              "    <tr>\n",
              "      <th>1441</th>\n",
              "      <td>2010-11-26</td>\n",
              "      <td>1546.249092</td>\n",
              "      <td>1274.645564</td>\n",
              "      <td>1850.744253</td>\n",
              "      <td>1643.850763</td>\n",
              "      <td>1367.758750</td>\n",
              "      <td>1947.173774</td>\n",
              "    </tr>\n",
              "  </tbody>\n",
              "</table>\n",
              "<p>1442 rows × 7 columns</p>\n",
              "</div>"
            ],
            "text/plain": [
              "             ds         yhat  ...  trend_lower  trend_upper\n",
              "0    2006-12-16  1174.654416  ...  1566.208205  1566.208205\n",
              "1    2006-12-17  3415.950306  ...  1566.143627  1566.143627\n",
              "2    2006-12-18  2203.727433  ...  1566.079050  1566.079050\n",
              "3    2006-12-19  1678.805316  ...  1566.014473  1566.014473\n",
              "4    2006-12-20  2223.792911  ...  1565.949895  1565.949895\n",
              "...         ...          ...  ...          ...          ...\n",
              "1437 2010-11-22  2119.118426  ...  1373.792449  1942.374614\n",
              "1438 2010-11-23  1660.812690  ...  1372.926630  1943.885327\n",
              "1439 2010-11-24  1868.206808  ...  1371.310258  1945.388441\n",
              "1440 2010-11-25  1491.116158  ...  1369.531215  1946.356576\n",
              "1441 2010-11-26  1546.249092  ...  1367.758750  1947.173774\n",
              "\n",
              "[1442 rows x 7 columns]"
            ]
          },
          "metadata": {
            "tags": []
          },
          "execution_count": 81
        }
      ]
    },
    {
      "cell_type": "code",
      "metadata": {
        "id": "u2sWra_8URVM"
      },
      "source": [
        "test2_val = test2['y']\n",
        "pred_val2 = forecast2['yhat'][-365:] "
      ],
      "execution_count": 82,
      "outputs": []
    },
    {
      "cell_type": "code",
      "metadata": {
        "id": "1mJp3GDQUrip",
        "outputId": "a9c4a0da-928d-402e-9877-e58c7f791603",
        "colab": {
          "base_uri": "https://localhost:8080/",
          "height": 34
        }
      },
      "source": [
        "prediction2 = mape(test2_val, pred_val2)\n",
        "print('MAPE prediction: ', round(prediction2, 2)) "
      ],
      "execution_count": 83,
      "outputs": [
        {
          "output_type": "stream",
          "text": [
            "MAPE prediction:  2.83\n"
          ],
          "name": "stdout"
        }
      ]
    },
    {
      "cell_type": "code",
      "metadata": {
        "id": "11teQYP1V0X5",
        "outputId": "692f400a-74e2-4eb5-a350-b33589ece7ef",
        "colab": {
          "base_uri": "https://localhost:8080/",
          "height": 34
        }
      },
      "source": [
        "pred2_mse = mean_squared_error(test2_val, pred_val2)\n",
        "pred2_rmse = np.sqrt(pred2_mse)\n",
        "print('RMSE prediction: ', round(pred2_rmse, 2))"
      ],
      "execution_count": 84,
      "outputs": [
        {
          "output_type": "stream",
          "text": [
            "RMSE prediction:  41.93\n"
          ],
          "name": "stdout"
        }
      ]
    },
    {
      "cell_type": "code",
      "metadata": {
        "id": "EqDSriNQWcoS",
        "outputId": "75691595-c72c-4e3a-afa5-96d902ccc070",
        "colab": {
          "base_uri": "https://localhost:8080/",
          "height": 34
        }
      },
      "source": [
        "new_pred_rmse2 = rmse(test2_val, pred_val2)\n",
        "round(new_pred_rmse2, 2) "
      ],
      "execution_count": 85,
      "outputs": [
        {
          "output_type": "execute_result",
          "data": {
            "text/plain": [
              "41.93"
            ]
          },
          "metadata": {
            "tags": []
          },
          "execution_count": 85
        }
      ]
    },
    {
      "cell_type": "code",
      "metadata": {
        "id": "3Oy8_kO3W1Uj",
        "outputId": "c3319296-b757-4dcb-86f5-a4e4f7dab56d",
        "colab": {
          "base_uri": "https://localhost:8080/",
          "height": 873
        }
      },
      "source": [
        "model2.plot_components(forecast2)\n",
        "plt.show()"
      ],
      "execution_count": 86,
      "outputs": [
        {
          "output_type": "display_data",
          "data": {
            "image/png": "[encoded data removed]",
            "text/plain": [
              "<Figure size 648x864 with 4 Axes>"
            ]
          },
          "metadata": {
            "tags": []
          }
        }
      ]
    },
    {
      "cell_type": "code",
      "metadata": {
        "id": "VLhBUGHBQpM4"
      },
      "source": [
        ""
      ],
      "execution_count": null,
      "outputs": []
    }
  ]
}